{
 "cells": [
  {
   "cell_type": "markdown",
   "metadata": {},
   "source": [
    "# 1. Предобработка данных"
   ]
  },
  {
   "cell_type": "code",
   "execution_count": 12,
   "metadata": {},
   "outputs": [],
   "source": [
    "import pandas as pd\n",
    "import numpy as np\n",
    "import warnings\n",
    "warnings.filterwarnings('ignore')\n",
    "import matplotlib.pyplot as plt\n",
    "import seaborn as sns"
   ]
  },
  {
   "cell_type": "code",
   "execution_count": 38,
   "metadata": {},
   "outputs": [],
   "source": [
    "df = pd.read_csv(\"test_data.csv\")"
   ]
  },
  {
   "cell_type": "code",
   "execution_count": 39,
   "metadata": {},
   "outputs": [
    {
     "data": {
      "text/plain": [
       "(948349, 51)"
      ]
     },
     "execution_count": 39,
     "metadata": {},
     "output_type": "execute_result"
    }
   ],
   "source": [
    "df.shape"
   ]
  },
  {
   "cell_type": "code",
   "execution_count": 40,
   "metadata": {},
   "outputs": [
    {
     "data": {
      "text/html": [
       "<div>\n",
       "<style scoped>\n",
       "    .dataframe tbody tr th:only-of-type {\n",
       "        vertical-align: middle;\n",
       "    }\n",
       "\n",
       "    .dataframe tbody tr th {\n",
       "        vertical-align: top;\n",
       "    }\n",
       "\n",
       "    .dataframe thead th {\n",
       "        text-align: right;\n",
       "    }\n",
       "</style>\n",
       "<table border=\"1\" class=\"dataframe\">\n",
       "  <thead>\n",
       "    <tr style=\"text-align: right;\">\n",
       "      <th></th>\n",
       "      <th>Unnamed: 0</th>\n",
       "      <th>created_date_time</th>\n",
       "      <th>target</th>\n",
       "      <th>cat_0</th>\n",
       "      <th>cat_1</th>\n",
       "      <th>cat_2</th>\n",
       "      <th>cat_3</th>\n",
       "      <th>cat_4</th>\n",
       "      <th>cat_5</th>\n",
       "      <th>cat_6</th>\n",
       "      <th>...</th>\n",
       "      <th>num_27</th>\n",
       "      <th>num_28</th>\n",
       "      <th>num_29</th>\n",
       "      <th>num_30</th>\n",
       "      <th>num_31</th>\n",
       "      <th>num_32</th>\n",
       "      <th>num_33</th>\n",
       "      <th>num_34</th>\n",
       "      <th>num_35</th>\n",
       "      <th>num_36</th>\n",
       "    </tr>\n",
       "  </thead>\n",
       "  <tbody>\n",
       "    <tr>\n",
       "      <th>0</th>\n",
       "      <td>6</td>\n",
       "      <td>2015-04-21 15:04:37.138636</td>\n",
       "      <td>True</td>\n",
       "      <td>2</td>\n",
       "      <td>0</td>\n",
       "      <td>5</td>\n",
       "      <td>1</td>\n",
       "      <td>678</td>\n",
       "      <td>39</td>\n",
       "      <td>3</td>\n",
       "      <td>...</td>\n",
       "      <td>-0.1433</td>\n",
       "      <td>-0.1605</td>\n",
       "      <td>0.4688</td>\n",
       "      <td>-0.1631</td>\n",
       "      <td>-0.1534</td>\n",
       "      <td>-0.0926</td>\n",
       "      <td>-0.1751</td>\n",
       "      <td>0.2899</td>\n",
       "      <td>0.2337</td>\n",
       "      <td>-0.1719</td>\n",
       "    </tr>\n",
       "    <tr>\n",
       "      <th>1</th>\n",
       "      <td>15</td>\n",
       "      <td>2014-12-27 20:02:13.060859</td>\n",
       "      <td>False</td>\n",
       "      <td>0</td>\n",
       "      <td>0</td>\n",
       "      <td>5</td>\n",
       "      <td>3</td>\n",
       "      <td>453</td>\n",
       "      <td>123</td>\n",
       "      <td>0</td>\n",
       "      <td>...</td>\n",
       "      <td>-0.1713</td>\n",
       "      <td>-0.1629</td>\n",
       "      <td>-0.1232</td>\n",
       "      <td>-0.1622</td>\n",
       "      <td>-0.1700</td>\n",
       "      <td>-0.1219</td>\n",
       "      <td>-0.1751</td>\n",
       "      <td>0.0910</td>\n",
       "      <td>-0.1572</td>\n",
       "      <td>-0.1719</td>\n",
       "    </tr>\n",
       "    <tr>\n",
       "      <th>2</th>\n",
       "      <td>26</td>\n",
       "      <td>2014-12-26 13:00:26.068808</td>\n",
       "      <td>True</td>\n",
       "      <td>3</td>\n",
       "      <td>0</td>\n",
       "      <td>5</td>\n",
       "      <td>1</td>\n",
       "      <td>766</td>\n",
       "      <td>153</td>\n",
       "      <td>0</td>\n",
       "      <td>...</td>\n",
       "      <td>-0.1713</td>\n",
       "      <td>-0.1635</td>\n",
       "      <td>-0.7153</td>\n",
       "      <td>-0.1631</td>\n",
       "      <td>-0.1481</td>\n",
       "      <td>-0.1351</td>\n",
       "      <td>-0.1751</td>\n",
       "      <td>0.0910</td>\n",
       "      <td>-0.3537</td>\n",
       "      <td>-0.1719</td>\n",
       "    </tr>\n",
       "    <tr>\n",
       "      <th>3</th>\n",
       "      <td>28</td>\n",
       "      <td>2012-05-22 08:19:03.795795</td>\n",
       "      <td>False</td>\n",
       "      <td>2</td>\n",
       "      <td>3</td>\n",
       "      <td>5</td>\n",
       "      <td>1</td>\n",
       "      <td>919</td>\n",
       "      <td>117</td>\n",
       "      <td>0</td>\n",
       "      <td>...</td>\n",
       "      <td>-0.1769</td>\n",
       "      <td>-0.1635</td>\n",
       "      <td>-0.4192</td>\n",
       "      <td>-0.1622</td>\n",
       "      <td>-0.0640</td>\n",
       "      <td>-0.0975</td>\n",
       "      <td>-0.1751</td>\n",
       "      <td>-1.3474</td>\n",
       "      <td>0.1699</td>\n",
       "      <td>0.4585</td>\n",
       "    </tr>\n",
       "    <tr>\n",
       "      <th>4</th>\n",
       "      <td>31</td>\n",
       "      <td>2015-06-21 05:07:36.512759</td>\n",
       "      <td>True</td>\n",
       "      <td>0</td>\n",
       "      <td>0</td>\n",
       "      <td>0</td>\n",
       "      <td>3</td>\n",
       "      <td>1583</td>\n",
       "      <td>123</td>\n",
       "      <td>0</td>\n",
       "      <td>...</td>\n",
       "      <td>-0.1713</td>\n",
       "      <td>-0.1635</td>\n",
       "      <td>1.9490</td>\n",
       "      <td>-0.1631</td>\n",
       "      <td>-0.1968</td>\n",
       "      <td>-0.1054</td>\n",
       "      <td>-0.1751</td>\n",
       "      <td>0.3192</td>\n",
       "      <td>-0.0002</td>\n",
       "      <td>-0.1719</td>\n",
       "    </tr>\n",
       "  </tbody>\n",
       "</table>\n",
       "<p>5 rows × 51 columns</p>\n",
       "</div>"
      ],
      "text/plain": [
       "   Unnamed: 0           created_date_time  target  cat_0  cat_1  cat_2  cat_3  \\\n",
       "0           6  2015-04-21 15:04:37.138636    True      2      0      5      1   \n",
       "1          15  2014-12-27 20:02:13.060859   False      0      0      5      3   \n",
       "2          26  2014-12-26 13:00:26.068808    True      3      0      5      1   \n",
       "3          28  2012-05-22 08:19:03.795795   False      2      3      5      1   \n",
       "4          31  2015-06-21 05:07:36.512759    True      0      0      0      3   \n",
       "\n",
       "   cat_4  cat_5  cat_6  ...  num_27  num_28  num_29  num_30  num_31  num_32  \\\n",
       "0    678     39      3  ... -0.1433 -0.1605  0.4688 -0.1631 -0.1534 -0.0926   \n",
       "1    453    123      0  ... -0.1713 -0.1629 -0.1232 -0.1622 -0.1700 -0.1219   \n",
       "2    766    153      0  ... -0.1713 -0.1635 -0.7153 -0.1631 -0.1481 -0.1351   \n",
       "3    919    117      0  ... -0.1769 -0.1635 -0.4192 -0.1622 -0.0640 -0.0975   \n",
       "4   1583    123      0  ... -0.1713 -0.1635  1.9490 -0.1631 -0.1968 -0.1054   \n",
       "\n",
       "   num_33  num_34  num_35  num_36  \n",
       "0 -0.1751  0.2899  0.2337 -0.1719  \n",
       "1 -0.1751  0.0910 -0.1572 -0.1719  \n",
       "2 -0.1751  0.0910 -0.3537 -0.1719  \n",
       "3 -0.1751 -1.3474  0.1699  0.4585  \n",
       "4 -0.1751  0.3192 -0.0002 -0.1719  \n",
       "\n",
       "[5 rows x 51 columns]"
      ]
     },
     "execution_count": 40,
     "metadata": {},
     "output_type": "execute_result"
    }
   ],
   "source": [
    "df.head()"
   ]
  },
  {
   "cell_type": "code",
   "execution_count": 41,
   "metadata": {
    "scrolled": true
   },
   "outputs": [
    {
     "name": "stdout",
     "output_type": "stream",
     "text": [
      "<class 'pandas.core.frame.DataFrame'>\n",
      "RangeIndex: 948349 entries, 0 to 948348\n",
      "Data columns (total 51 columns):\n",
      "Unnamed: 0           948349 non-null int64\n",
      "created_date_time    948349 non-null object\n",
      "target               948349 non-null bool\n",
      "cat_0                948349 non-null int64\n",
      "cat_1                948349 non-null int64\n",
      "cat_2                948349 non-null int64\n",
      "cat_3                948349 non-null int64\n",
      "cat_4                948349 non-null int64\n",
      "cat_5                948349 non-null int64\n",
      "cat_6                948349 non-null int64\n",
      "cat_7                948349 non-null int64\n",
      "cat_8                948349 non-null int64\n",
      "cat_9                948349 non-null int64\n",
      "cat_10               948349 non-null int64\n",
      "num_0                948349 non-null float64\n",
      "num_1                948349 non-null float64\n",
      "num_2                948349 non-null float64\n",
      "num_3                948349 non-null float64\n",
      "num_4                948349 non-null float64\n",
      "num_5                948349 non-null float64\n",
      "num_6                948349 non-null float64\n",
      "num_7                948349 non-null float64\n",
      "num_8                948349 non-null float64\n",
      "num_9                948349 non-null float64\n",
      "num_10               948349 non-null float64\n",
      "num_11               948349 non-null float64\n",
      "num_12               948349 non-null float64\n",
      "num_13               948349 non-null float64\n",
      "num_14               948349 non-null float64\n",
      "num_15               948349 non-null float64\n",
      "num_16               948349 non-null float64\n",
      "num_17               948349 non-null float64\n",
      "num_18               948349 non-null float64\n",
      "num_19               948349 non-null float64\n",
      "num_20               948349 non-null float64\n",
      "num_21               948349 non-null float64\n",
      "num_22               948349 non-null float64\n",
      "num_23               948349 non-null float64\n",
      "num_24               948349 non-null float64\n",
      "num_25               948349 non-null float64\n",
      "num_26               948349 non-null float64\n",
      "num_27               948349 non-null float64\n",
      "num_28               948349 non-null float64\n",
      "num_29               948349 non-null float64\n",
      "num_30               948349 non-null float64\n",
      "num_31               948349 non-null float64\n",
      "num_32               948349 non-null float64\n",
      "num_33               948349 non-null float64\n",
      "num_34               948349 non-null float64\n",
      "num_35               948349 non-null float64\n",
      "num_36               948349 non-null float64\n",
      "dtypes: bool(1), float64(37), int64(12), object(1)\n",
      "memory usage: 362.7+ MB\n"
     ]
    }
   ],
   "source": [
    "df.info()"
   ]
  },
  {
   "cell_type": "markdown",
   "metadata": {},
   "source": [
    "Пропусков нет, категориальные фичи трансформированы (label encoding), дата в формате строки – переделать в datetime, target – в int64."
   ]
  },
  {
   "cell_type": "code",
   "execution_count": 42,
   "metadata": {},
   "outputs": [],
   "source": [
    "df['created_date_time'] =  pd.to_datetime(df['created_date_time'], format='%Y-%m-%d %H:%M:%S.%f')\n",
    "df['target'] = df['target'].astype(np.int64)\n",
    "df.drop(columns=['Unnamed: 0'], inplace=True)\n",
    "cats = ['cat_%s' % x for x in range(11)]\n",
    "nums = ['num_%s' % x for x in range(37)]"
   ]
  },
  {
   "cell_type": "code",
   "execution_count": 43,
   "metadata": {},
   "outputs": [
    {
     "data": {
      "text/plain": [
       "target       2\n",
       "cat_0        4\n",
       "cat_1        4\n",
       "cat_2        6\n",
       "cat_3        4\n",
       "cat_4     7732\n",
       "cat_5      185\n",
       "cat_6        4\n",
       "cat_7        4\n",
       "cat_8       11\n",
       "cat_9        6\n",
       "cat_10       6\n",
       "dtype: int64"
      ]
     },
     "execution_count": 43,
     "metadata": {},
     "output_type": "execute_result"
    }
   ],
   "source": [
    "df.select_dtypes('int64').apply(pd.Series.nunique, axis = 0)"
   ]
  },
  {
   "cell_type": "markdown",
   "metadata": {},
   "source": [
    "Две категориальные переменные с большим количеством уникальных классов. Если использовать one-hot-encoding, то получим более 7800 переменных. Можно, конечно, преобразовать в sparse матрицу, но непараметрические модели – Random Forest, XGBoost, LightGBM, CatBoost – справляются с label encoded переменными, поэтому оставим как есть. Полагаю, что cat_4 – это айдишники отелей или что-то в этом роде."
   ]
  },
  {
   "cell_type": "code",
   "execution_count": 44,
   "metadata": {
    "scrolled": true
   },
   "outputs": [
    {
     "data": {
      "text/html": [
       "<div>\n",
       "<style scoped>\n",
       "    .dataframe tbody tr th:only-of-type {\n",
       "        vertical-align: middle;\n",
       "    }\n",
       "\n",
       "    .dataframe tbody tr th {\n",
       "        vertical-align: top;\n",
       "    }\n",
       "\n",
       "    .dataframe thead th {\n",
       "        text-align: right;\n",
       "    }\n",
       "</style>\n",
       "<table border=\"1\" class=\"dataframe\">\n",
       "  <thead>\n",
       "    <tr style=\"text-align: right;\">\n",
       "      <th></th>\n",
       "      <th>count</th>\n",
       "      <th>mean</th>\n",
       "      <th>std</th>\n",
       "      <th>min</th>\n",
       "      <th>25%</th>\n",
       "      <th>50%</th>\n",
       "      <th>75%</th>\n",
       "      <th>max</th>\n",
       "    </tr>\n",
       "  </thead>\n",
       "  <tbody>\n",
       "    <tr>\n",
       "      <th>num_0</th>\n",
       "      <td>948349.0</td>\n",
       "      <td>4.976016e-07</td>\n",
       "      <td>1.000000</td>\n",
       "      <td>-98.8282</td>\n",
       "      <td>-0.5035</td>\n",
       "      <td>-0.2352</td>\n",
       "      <td>0.1667</td>\n",
       "      <td>90.6416</td>\n",
       "    </tr>\n",
       "    <tr>\n",
       "      <th>num_1</th>\n",
       "      <td>948349.0</td>\n",
       "      <td>-8.333008e-06</td>\n",
       "      <td>1.000024</td>\n",
       "      <td>-1.0405</td>\n",
       "      <td>-1.0405</td>\n",
       "      <td>0.4546</td>\n",
       "      <td>0.4546</td>\n",
       "      <td>25.8701</td>\n",
       "    </tr>\n",
       "    <tr>\n",
       "      <th>num_2</th>\n",
       "      <td>948349.0</td>\n",
       "      <td>8.653987e-07</td>\n",
       "      <td>1.000000</td>\n",
       "      <td>-0.8915</td>\n",
       "      <td>-0.5489</td>\n",
       "      <td>-0.3644</td>\n",
       "      <td>0.1101</td>\n",
       "      <td>46.7627</td>\n",
       "    </tr>\n",
       "    <tr>\n",
       "      <th>num_3</th>\n",
       "      <td>948349.0</td>\n",
       "      <td>-2.755473e-05</td>\n",
       "      <td>1.000007</td>\n",
       "      <td>-0.2784</td>\n",
       "      <td>-0.2784</td>\n",
       "      <td>-0.2784</td>\n",
       "      <td>-0.2784</td>\n",
       "      <td>20.4593</td>\n",
       "    </tr>\n",
       "    <tr>\n",
       "      <th>num_4</th>\n",
       "      <td>948349.0</td>\n",
       "      <td>-1.476249e-09</td>\n",
       "      <td>1.000000</td>\n",
       "      <td>-579.6469</td>\n",
       "      <td>-0.2852</td>\n",
       "      <td>-0.2018</td>\n",
       "      <td>0.0343</td>\n",
       "      <td>237.7287</td>\n",
       "    </tr>\n",
       "    <tr>\n",
       "      <th>num_5</th>\n",
       "      <td>948349.0</td>\n",
       "      <td>3.975330e-08</td>\n",
       "      <td>1.000000</td>\n",
       "      <td>-532.4264</td>\n",
       "      <td>-0.3118</td>\n",
       "      <td>-0.1156</td>\n",
       "      <td>0.1348</td>\n",
       "      <td>188.3430</td>\n",
       "    </tr>\n",
       "    <tr>\n",
       "      <th>num_6</th>\n",
       "      <td>948349.0</td>\n",
       "      <td>-4.838303e-06</td>\n",
       "      <td>1.000006</td>\n",
       "      <td>-0.6524</td>\n",
       "      <td>-0.6524</td>\n",
       "      <td>-0.3802</td>\n",
       "      <td>0.1643</td>\n",
       "      <td>24.1193</td>\n",
       "    </tr>\n",
       "    <tr>\n",
       "      <th>num_7</th>\n",
       "      <td>948349.0</td>\n",
       "      <td>8.502988e-06</td>\n",
       "      <td>0.999997</td>\n",
       "      <td>-0.4244</td>\n",
       "      <td>-0.4244</td>\n",
       "      <td>-0.4244</td>\n",
       "      <td>-0.4244</td>\n",
       "      <td>23.6016</td>\n",
       "    </tr>\n",
       "    <tr>\n",
       "      <th>num_8</th>\n",
       "      <td>948349.0</td>\n",
       "      <td>3.508308e-06</td>\n",
       "      <td>1.000000</td>\n",
       "      <td>-0.2797</td>\n",
       "      <td>-0.2797</td>\n",
       "      <td>-0.2797</td>\n",
       "      <td>-0.2797</td>\n",
       "      <td>7.1740</td>\n",
       "    </tr>\n",
       "    <tr>\n",
       "      <th>num_9</th>\n",
       "      <td>948349.0</td>\n",
       "      <td>-1.044130e-05</td>\n",
       "      <td>1.000004</td>\n",
       "      <td>-0.2874</td>\n",
       "      <td>-0.2874</td>\n",
       "      <td>-0.2874</td>\n",
       "      <td>-0.2874</td>\n",
       "      <td>6.7199</td>\n",
       "    </tr>\n",
       "    <tr>\n",
       "      <th>num_10</th>\n",
       "      <td>948349.0</td>\n",
       "      <td>-1.508400e-05</td>\n",
       "      <td>1.000008</td>\n",
       "      <td>-0.4754</td>\n",
       "      <td>-0.4754</td>\n",
       "      <td>-0.4754</td>\n",
       "      <td>-0.4754</td>\n",
       "      <td>15.3636</td>\n",
       "    </tr>\n",
       "    <tr>\n",
       "      <th>num_11</th>\n",
       "      <td>948349.0</td>\n",
       "      <td>2.242392e-05</td>\n",
       "      <td>0.999994</td>\n",
       "      <td>-0.3000</td>\n",
       "      <td>-0.3000</td>\n",
       "      <td>-0.3000</td>\n",
       "      <td>-0.3000</td>\n",
       "      <td>122.5191</td>\n",
       "    </tr>\n",
       "    <tr>\n",
       "      <th>num_12</th>\n",
       "      <td>948349.0</td>\n",
       "      <td>-1.990533e-05</td>\n",
       "      <td>1.000005</td>\n",
       "      <td>-0.2065</td>\n",
       "      <td>-0.2065</td>\n",
       "      <td>-0.2065</td>\n",
       "      <td>-0.2065</td>\n",
       "      <td>70.0644</td>\n",
       "    </tr>\n",
       "    <tr>\n",
       "      <th>num_13</th>\n",
       "      <td>948349.0</td>\n",
       "      <td>9.891823e-06</td>\n",
       "      <td>0.999998</td>\n",
       "      <td>-0.2382</td>\n",
       "      <td>-0.2382</td>\n",
       "      <td>-0.2382</td>\n",
       "      <td>-0.2382</td>\n",
       "      <td>7.5839</td>\n",
       "    </tr>\n",
       "    <tr>\n",
       "      <th>num_14</th>\n",
       "      <td>948349.0</td>\n",
       "      <td>-2.733530e-05</td>\n",
       "      <td>1.000008</td>\n",
       "      <td>-0.2557</td>\n",
       "      <td>-0.2557</td>\n",
       "      <td>-0.2557</td>\n",
       "      <td>-0.2557</td>\n",
       "      <td>7.8402</td>\n",
       "    </tr>\n",
       "    <tr>\n",
       "      <th>num_15</th>\n",
       "      <td>948349.0</td>\n",
       "      <td>-1.704763e-05</td>\n",
       "      <td>1.000005</td>\n",
       "      <td>-0.2706</td>\n",
       "      <td>-0.2706</td>\n",
       "      <td>-0.2706</td>\n",
       "      <td>-0.2706</td>\n",
       "      <td>7.3151</td>\n",
       "    </tr>\n",
       "    <tr>\n",
       "      <th>num_16</th>\n",
       "      <td>948349.0</td>\n",
       "      <td>2.447190e-05</td>\n",
       "      <td>0.999990</td>\n",
       "      <td>-0.4361</td>\n",
       "      <td>-0.4361</td>\n",
       "      <td>-0.4361</td>\n",
       "      <td>-0.4361</td>\n",
       "      <td>22.8247</td>\n",
       "    </tr>\n",
       "    <tr>\n",
       "      <th>num_17</th>\n",
       "      <td>948349.0</td>\n",
       "      <td>1.415059e-05</td>\n",
       "      <td>0.999996</td>\n",
       "      <td>-0.2845</td>\n",
       "      <td>-0.2845</td>\n",
       "      <td>-0.2845</td>\n",
       "      <td>-0.2845</td>\n",
       "      <td>7.0887</td>\n",
       "    </tr>\n",
       "    <tr>\n",
       "      <th>num_18</th>\n",
       "      <td>948349.0</td>\n",
       "      <td>5.945385e-06</td>\n",
       "      <td>0.999999</td>\n",
       "      <td>-0.2908</td>\n",
       "      <td>-0.2908</td>\n",
       "      <td>-0.2908</td>\n",
       "      <td>-0.2908</td>\n",
       "      <td>6.4655</td>\n",
       "    </tr>\n",
       "    <tr>\n",
       "      <th>num_19</th>\n",
       "      <td>948349.0</td>\n",
       "      <td>-9.799873e-06</td>\n",
       "      <td>1.000005</td>\n",
       "      <td>-0.4762</td>\n",
       "      <td>-0.4762</td>\n",
       "      <td>-0.4762</td>\n",
       "      <td>-0.4762</td>\n",
       "      <td>15.4406</td>\n",
       "    </tr>\n",
       "    <tr>\n",
       "      <th>num_20</th>\n",
       "      <td>948349.0</td>\n",
       "      <td>-3.621547e-05</td>\n",
       "      <td>1.000011</td>\n",
       "      <td>-0.2890</td>\n",
       "      <td>-0.2890</td>\n",
       "      <td>-0.2890</td>\n",
       "      <td>-0.2890</td>\n",
       "      <td>6.4744</td>\n",
       "    </tr>\n",
       "    <tr>\n",
       "      <th>num_21</th>\n",
       "      <td>948349.0</td>\n",
       "      <td>1.562484e-05</td>\n",
       "      <td>0.999996</td>\n",
       "      <td>-0.3038</td>\n",
       "      <td>-0.3038</td>\n",
       "      <td>-0.3038</td>\n",
       "      <td>-0.3038</td>\n",
       "      <td>76.7851</td>\n",
       "    </tr>\n",
       "    <tr>\n",
       "      <th>num_22</th>\n",
       "      <td>948349.0</td>\n",
       "      <td>-3.759924e-05</td>\n",
       "      <td>1.000008</td>\n",
       "      <td>-0.2077</td>\n",
       "      <td>-0.2077</td>\n",
       "      <td>-0.2077</td>\n",
       "      <td>-0.2077</td>\n",
       "      <td>70.3253</td>\n",
       "    </tr>\n",
       "    <tr>\n",
       "      <th>num_23</th>\n",
       "      <td>948349.0</td>\n",
       "      <td>-2.814439e-05</td>\n",
       "      <td>1.000007</td>\n",
       "      <td>-0.2410</td>\n",
       "      <td>-0.2410</td>\n",
       "      <td>-0.2410</td>\n",
       "      <td>-0.2410</td>\n",
       "      <td>7.5696</td>\n",
       "    </tr>\n",
       "    <tr>\n",
       "      <th>num_24</th>\n",
       "      <td>948349.0</td>\n",
       "      <td>-3.766198e-05</td>\n",
       "      <td>1.000010</td>\n",
       "      <td>-0.2622</td>\n",
       "      <td>-0.2622</td>\n",
       "      <td>-0.2622</td>\n",
       "      <td>-0.2622</td>\n",
       "      <td>7.8119</td>\n",
       "    </tr>\n",
       "    <tr>\n",
       "      <th>num_25</th>\n",
       "      <td>948349.0</td>\n",
       "      <td>2.436276e-05</td>\n",
       "      <td>0.999994</td>\n",
       "      <td>-0.2804</td>\n",
       "      <td>-0.2804</td>\n",
       "      <td>-0.2804</td>\n",
       "      <td>-0.2804</td>\n",
       "      <td>7.2314</td>\n",
       "    </tr>\n",
       "    <tr>\n",
       "      <th>num_26</th>\n",
       "      <td>948349.0</td>\n",
       "      <td>-6.526078e-07</td>\n",
       "      <td>1.000001</td>\n",
       "      <td>-0.7380</td>\n",
       "      <td>-0.5670</td>\n",
       "      <td>-0.3675</td>\n",
       "      <td>0.1453</td>\n",
       "      <td>50.5503</td>\n",
       "    </tr>\n",
       "    <tr>\n",
       "      <th>num_27</th>\n",
       "      <td>948349.0</td>\n",
       "      <td>-1.674204e-05</td>\n",
       "      <td>1.000004</td>\n",
       "      <td>-0.1769</td>\n",
       "      <td>-0.1769</td>\n",
       "      <td>-0.1769</td>\n",
       "      <td>-0.1713</td>\n",
       "      <td>11.0261</td>\n",
       "    </tr>\n",
       "    <tr>\n",
       "      <th>num_28</th>\n",
       "      <td>948349.0</td>\n",
       "      <td>1.806424e-05</td>\n",
       "      <td>0.999998</td>\n",
       "      <td>-0.1635</td>\n",
       "      <td>-0.1635</td>\n",
       "      <td>-0.1635</td>\n",
       "      <td>-0.1617</td>\n",
       "      <td>11.5477</td>\n",
       "    </tr>\n",
       "    <tr>\n",
       "      <th>num_29</th>\n",
       "      <td>948349.0</td>\n",
       "      <td>-2.661678e-06</td>\n",
       "      <td>1.000004</td>\n",
       "      <td>-0.7153</td>\n",
       "      <td>-0.7153</td>\n",
       "      <td>-0.4107</td>\n",
       "      <td>0.1728</td>\n",
       "      <td>26.2232</td>\n",
       "    </tr>\n",
       "    <tr>\n",
       "      <th>num_30</th>\n",
       "      <td>948349.0</td>\n",
       "      <td>-3.305640e-06</td>\n",
       "      <td>1.000001</td>\n",
       "      <td>-0.1631</td>\n",
       "      <td>-0.1631</td>\n",
       "      <td>-0.1622</td>\n",
       "      <td>-0.1613</td>\n",
       "      <td>11.6173</td>\n",
       "    </tr>\n",
       "    <tr>\n",
       "      <th>num_31</th>\n",
       "      <td>948349.0</td>\n",
       "      <td>-2.193074e-06</td>\n",
       "      <td>1.000001</td>\n",
       "      <td>-0.2237</td>\n",
       "      <td>-0.1798</td>\n",
       "      <td>-0.1529</td>\n",
       "      <td>-0.1026</td>\n",
       "      <td>515.3069</td>\n",
       "    </tr>\n",
       "    <tr>\n",
       "      <th>num_32</th>\n",
       "      <td>948349.0</td>\n",
       "      <td>4.397115e-07</td>\n",
       "      <td>1.000001</td>\n",
       "      <td>-0.1468</td>\n",
       "      <td>-0.1358</td>\n",
       "      <td>-0.1214</td>\n",
       "      <td>-0.0812</td>\n",
       "      <td>556.6173</td>\n",
       "    </tr>\n",
       "    <tr>\n",
       "      <th>num_33</th>\n",
       "      <td>948349.0</td>\n",
       "      <td>-2.291920e-05</td>\n",
       "      <td>1.000005</td>\n",
       "      <td>-0.1751</td>\n",
       "      <td>-0.1751</td>\n",
       "      <td>-0.1751</td>\n",
       "      <td>-0.1751</td>\n",
       "      <td>18.9512</td>\n",
       "    </tr>\n",
       "    <tr>\n",
       "      <th>num_34</th>\n",
       "      <td>948349.0</td>\n",
       "      <td>6.808675e-07</td>\n",
       "      <td>1.000000</td>\n",
       "      <td>-1.3499</td>\n",
       "      <td>-1.0531</td>\n",
       "      <td>0.1947</td>\n",
       "      <td>0.9721</td>\n",
       "      <td>1.7090</td>\n",
       "    </tr>\n",
       "    <tr>\n",
       "      <th>num_35</th>\n",
       "      <td>948349.0</td>\n",
       "      <td>-1.423527e-07</td>\n",
       "      <td>1.000001</td>\n",
       "      <td>-469.6494</td>\n",
       "      <td>-0.3475</td>\n",
       "      <td>-0.2371</td>\n",
       "      <td>0.0554</td>\n",
       "      <td>234.3798</td>\n",
       "    </tr>\n",
       "    <tr>\n",
       "      <th>num_36</th>\n",
       "      <td>948349.0</td>\n",
       "      <td>2.291277e-05</td>\n",
       "      <td>0.999997</td>\n",
       "      <td>-10.0728</td>\n",
       "      <td>-0.1719</td>\n",
       "      <td>-0.1719</td>\n",
       "      <td>-0.1719</td>\n",
       "      <td>390.2864</td>\n",
       "    </tr>\n",
       "  </tbody>\n",
       "</table>\n",
       "</div>"
      ],
      "text/plain": [
       "           count          mean       std       min     25%     50%     75%  \\\n",
       "num_0   948349.0  4.976016e-07  1.000000  -98.8282 -0.5035 -0.2352  0.1667   \n",
       "num_1   948349.0 -8.333008e-06  1.000024   -1.0405 -1.0405  0.4546  0.4546   \n",
       "num_2   948349.0  8.653987e-07  1.000000   -0.8915 -0.5489 -0.3644  0.1101   \n",
       "num_3   948349.0 -2.755473e-05  1.000007   -0.2784 -0.2784 -0.2784 -0.2784   \n",
       "num_4   948349.0 -1.476249e-09  1.000000 -579.6469 -0.2852 -0.2018  0.0343   \n",
       "num_5   948349.0  3.975330e-08  1.000000 -532.4264 -0.3118 -0.1156  0.1348   \n",
       "num_6   948349.0 -4.838303e-06  1.000006   -0.6524 -0.6524 -0.3802  0.1643   \n",
       "num_7   948349.0  8.502988e-06  0.999997   -0.4244 -0.4244 -0.4244 -0.4244   \n",
       "num_8   948349.0  3.508308e-06  1.000000   -0.2797 -0.2797 -0.2797 -0.2797   \n",
       "num_9   948349.0 -1.044130e-05  1.000004   -0.2874 -0.2874 -0.2874 -0.2874   \n",
       "num_10  948349.0 -1.508400e-05  1.000008   -0.4754 -0.4754 -0.4754 -0.4754   \n",
       "num_11  948349.0  2.242392e-05  0.999994   -0.3000 -0.3000 -0.3000 -0.3000   \n",
       "num_12  948349.0 -1.990533e-05  1.000005   -0.2065 -0.2065 -0.2065 -0.2065   \n",
       "num_13  948349.0  9.891823e-06  0.999998   -0.2382 -0.2382 -0.2382 -0.2382   \n",
       "num_14  948349.0 -2.733530e-05  1.000008   -0.2557 -0.2557 -0.2557 -0.2557   \n",
       "num_15  948349.0 -1.704763e-05  1.000005   -0.2706 -0.2706 -0.2706 -0.2706   \n",
       "num_16  948349.0  2.447190e-05  0.999990   -0.4361 -0.4361 -0.4361 -0.4361   \n",
       "num_17  948349.0  1.415059e-05  0.999996   -0.2845 -0.2845 -0.2845 -0.2845   \n",
       "num_18  948349.0  5.945385e-06  0.999999   -0.2908 -0.2908 -0.2908 -0.2908   \n",
       "num_19  948349.0 -9.799873e-06  1.000005   -0.4762 -0.4762 -0.4762 -0.4762   \n",
       "num_20  948349.0 -3.621547e-05  1.000011   -0.2890 -0.2890 -0.2890 -0.2890   \n",
       "num_21  948349.0  1.562484e-05  0.999996   -0.3038 -0.3038 -0.3038 -0.3038   \n",
       "num_22  948349.0 -3.759924e-05  1.000008   -0.2077 -0.2077 -0.2077 -0.2077   \n",
       "num_23  948349.0 -2.814439e-05  1.000007   -0.2410 -0.2410 -0.2410 -0.2410   \n",
       "num_24  948349.0 -3.766198e-05  1.000010   -0.2622 -0.2622 -0.2622 -0.2622   \n",
       "num_25  948349.0  2.436276e-05  0.999994   -0.2804 -0.2804 -0.2804 -0.2804   \n",
       "num_26  948349.0 -6.526078e-07  1.000001   -0.7380 -0.5670 -0.3675  0.1453   \n",
       "num_27  948349.0 -1.674204e-05  1.000004   -0.1769 -0.1769 -0.1769 -0.1713   \n",
       "num_28  948349.0  1.806424e-05  0.999998   -0.1635 -0.1635 -0.1635 -0.1617   \n",
       "num_29  948349.0 -2.661678e-06  1.000004   -0.7153 -0.7153 -0.4107  0.1728   \n",
       "num_30  948349.0 -3.305640e-06  1.000001   -0.1631 -0.1631 -0.1622 -0.1613   \n",
       "num_31  948349.0 -2.193074e-06  1.000001   -0.2237 -0.1798 -0.1529 -0.1026   \n",
       "num_32  948349.0  4.397115e-07  1.000001   -0.1468 -0.1358 -0.1214 -0.0812   \n",
       "num_33  948349.0 -2.291920e-05  1.000005   -0.1751 -0.1751 -0.1751 -0.1751   \n",
       "num_34  948349.0  6.808675e-07  1.000000   -1.3499 -1.0531  0.1947  0.9721   \n",
       "num_35  948349.0 -1.423527e-07  1.000001 -469.6494 -0.3475 -0.2371  0.0554   \n",
       "num_36  948349.0  2.291277e-05  0.999997  -10.0728 -0.1719 -0.1719 -0.1719   \n",
       "\n",
       "             max  \n",
       "num_0    90.6416  \n",
       "num_1    25.8701  \n",
       "num_2    46.7627  \n",
       "num_3    20.4593  \n",
       "num_4   237.7287  \n",
       "num_5   188.3430  \n",
       "num_6    24.1193  \n",
       "num_7    23.6016  \n",
       "num_8     7.1740  \n",
       "num_9     6.7199  \n",
       "num_10   15.3636  \n",
       "num_11  122.5191  \n",
       "num_12   70.0644  \n",
       "num_13    7.5839  \n",
       "num_14    7.8402  \n",
       "num_15    7.3151  \n",
       "num_16   22.8247  \n",
       "num_17    7.0887  \n",
       "num_18    6.4655  \n",
       "num_19   15.4406  \n",
       "num_20    6.4744  \n",
       "num_21   76.7851  \n",
       "num_22   70.3253  \n",
       "num_23    7.5696  \n",
       "num_24    7.8119  \n",
       "num_25    7.2314  \n",
       "num_26   50.5503  \n",
       "num_27   11.0261  \n",
       "num_28   11.5477  \n",
       "num_29   26.2232  \n",
       "num_30   11.6173  \n",
       "num_31  515.3069  \n",
       "num_32  556.6173  \n",
       "num_33   18.9512  \n",
       "num_34    1.7090  \n",
       "num_35  234.3798  \n",
       "num_36  390.2864  "
      ]
     },
     "execution_count": 44,
     "metadata": {},
     "output_type": "execute_result"
    }
   ],
   "source": [
    "df[nums].describe().T"
   ]
  },
  {
   "cell_type": "markdown",
   "metadata": {},
   "source": [
    "В данных явно есть выбросы. Проверим, сколько их. Так как данные стандартизированы, то просто выберем значения, модуль (абсолютное значение) которых больше 3 (z > 3). "
   ]
  },
  {
   "cell_type": "code",
   "execution_count": 57,
   "metadata": {},
   "outputs": [],
   "source": [
    "def count_outliers(data):\n",
    "    outliers_num_list = []\n",
    "    outliers_share_list = []\n",
    "    for i in range(37):\n",
    "        column = 'num_%s' % i\n",
    "        absolute = np.abs(data[column])\n",
    "        if len((absolute > 3).value_counts()) < 2:\n",
    "            outliers_num = 0\n",
    "        else:\n",
    "            outliers_num = (absolute > 3).value_counts()[1]\n",
    "        total = df[column].count()\n",
    "        outliers_share = round((outliers_num / total * 100), 2)\n",
    "        outliers_num_list.append(outliers_num)\n",
    "        outliers_share_list.append(outliers_share)\n",
    "    return pd.DataFrame({\"Количество выбросов\": outliers_num_list, \"Доля выбросов\": outliers_share_list}, index=['num_%s' % x for x in range(37)])"
   ]
  },
  {
   "cell_type": "code",
   "execution_count": 60,
   "metadata": {},
   "outputs": [
    {
     "data": {
      "text/html": [
       "<div>\n",
       "<style scoped>\n",
       "    .dataframe tbody tr th:only-of-type {\n",
       "        vertical-align: middle;\n",
       "    }\n",
       "\n",
       "    .dataframe tbody tr th {\n",
       "        vertical-align: top;\n",
       "    }\n",
       "\n",
       "    .dataframe thead th {\n",
       "        text-align: right;\n",
       "    }\n",
       "</style>\n",
       "<table border=\"1\" class=\"dataframe\">\n",
       "  <thead>\n",
       "    <tr style=\"text-align: right;\">\n",
       "      <th></th>\n",
       "      <th>Количество выбросов</th>\n",
       "      <th>Доля выбросов</th>\n",
       "    </tr>\n",
       "  </thead>\n",
       "  <tbody>\n",
       "    <tr>\n",
       "      <th>num_15</th>\n",
       "      <td>39467</td>\n",
       "      <td>4.16</td>\n",
       "    </tr>\n",
       "    <tr>\n",
       "      <th>num_25</th>\n",
       "      <td>39216</td>\n",
       "      <td>4.14</td>\n",
       "    </tr>\n",
       "    <tr>\n",
       "      <th>num_18</th>\n",
       "      <td>35428</td>\n",
       "      <td>3.74</td>\n",
       "    </tr>\n",
       "    <tr>\n",
       "      <th>num_17</th>\n",
       "      <td>35510</td>\n",
       "      <td>3.74</td>\n",
       "    </tr>\n",
       "    <tr>\n",
       "      <th>num_9</th>\n",
       "      <td>34613</td>\n",
       "      <td>3.65</td>\n",
       "    </tr>\n",
       "    <tr>\n",
       "      <th>num_20</th>\n",
       "      <td>34468</td>\n",
       "      <td>3.63</td>\n",
       "    </tr>\n",
       "    <tr>\n",
       "      <th>num_8</th>\n",
       "      <td>34170</td>\n",
       "      <td>3.60</td>\n",
       "    </tr>\n",
       "    <tr>\n",
       "      <th>num_24</th>\n",
       "      <td>27989</td>\n",
       "      <td>2.95</td>\n",
       "    </tr>\n",
       "    <tr>\n",
       "      <th>num_14</th>\n",
       "      <td>27950</td>\n",
       "      <td>2.95</td>\n",
       "    </tr>\n",
       "    <tr>\n",
       "      <th>num_13</th>\n",
       "      <td>25066</td>\n",
       "      <td>2.64</td>\n",
       "    </tr>\n",
       "    <tr>\n",
       "      <th>num_23</th>\n",
       "      <td>25047</td>\n",
       "      <td>2.64</td>\n",
       "    </tr>\n",
       "    <tr>\n",
       "      <th>num_2</th>\n",
       "      <td>23058</td>\n",
       "      <td>2.43</td>\n",
       "    </tr>\n",
       "    <tr>\n",
       "      <th>num_26</th>\n",
       "      <td>22160</td>\n",
       "      <td>2.34</td>\n",
       "    </tr>\n",
       "    <tr>\n",
       "      <th>num_29</th>\n",
       "      <td>21428</td>\n",
       "      <td>2.26</td>\n",
       "    </tr>\n",
       "    <tr>\n",
       "      <th>num_3</th>\n",
       "      <td>19899</td>\n",
       "      <td>2.10</td>\n",
       "    </tr>\n",
       "    <tr>\n",
       "      <th>num_27</th>\n",
       "      <td>19174</td>\n",
       "      <td>2.02</td>\n",
       "    </tr>\n",
       "    <tr>\n",
       "      <th>num_28</th>\n",
       "      <td>17690</td>\n",
       "      <td>1.87</td>\n",
       "    </tr>\n",
       "    <tr>\n",
       "      <th>num_30</th>\n",
       "      <td>16918</td>\n",
       "      <td>1.78</td>\n",
       "    </tr>\n",
       "    <tr>\n",
       "      <th>num_1</th>\n",
       "      <td>16867</td>\n",
       "      <td>1.78</td>\n",
       "    </tr>\n",
       "    <tr>\n",
       "      <th>num_6</th>\n",
       "      <td>16785</td>\n",
       "      <td>1.77</td>\n",
       "    </tr>\n",
       "    <tr>\n",
       "      <th>num_0</th>\n",
       "      <td>16037</td>\n",
       "      <td>1.69</td>\n",
       "    </tr>\n",
       "    <tr>\n",
       "      <th>num_31</th>\n",
       "      <td>12870</td>\n",
       "      <td>1.36</td>\n",
       "    </tr>\n",
       "    <tr>\n",
       "      <th>num_21</th>\n",
       "      <td>12305</td>\n",
       "      <td>1.30</td>\n",
       "    </tr>\n",
       "    <tr>\n",
       "      <th>num_33</th>\n",
       "      <td>12252</td>\n",
       "      <td>1.29</td>\n",
       "    </tr>\n",
       "    <tr>\n",
       "      <th>num_11</th>\n",
       "      <td>11968</td>\n",
       "      <td>1.26</td>\n",
       "    </tr>\n",
       "    <tr>\n",
       "      <th>num_36</th>\n",
       "      <td>9812</td>\n",
       "      <td>1.03</td>\n",
       "    </tr>\n",
       "    <tr>\n",
       "      <th>num_35</th>\n",
       "      <td>9564</td>\n",
       "      <td>1.01</td>\n",
       "    </tr>\n",
       "    <tr>\n",
       "      <th>num_22</th>\n",
       "      <td>8772</td>\n",
       "      <td>0.92</td>\n",
       "    </tr>\n",
       "    <tr>\n",
       "      <th>num_12</th>\n",
       "      <td>8693</td>\n",
       "      <td>0.92</td>\n",
       "    </tr>\n",
       "    <tr>\n",
       "      <th>num_32</th>\n",
       "      <td>7908</td>\n",
       "      <td>0.83</td>\n",
       "    </tr>\n",
       "    <tr>\n",
       "      <th>num_19</th>\n",
       "      <td>7566</td>\n",
       "      <td>0.80</td>\n",
       "    </tr>\n",
       "    <tr>\n",
       "      <th>num_10</th>\n",
       "      <td>7518</td>\n",
       "      <td>0.79</td>\n",
       "    </tr>\n",
       "    <tr>\n",
       "      <th>num_4</th>\n",
       "      <td>7488</td>\n",
       "      <td>0.79</td>\n",
       "    </tr>\n",
       "    <tr>\n",
       "      <th>num_7</th>\n",
       "      <td>5650</td>\n",
       "      <td>0.60</td>\n",
       "    </tr>\n",
       "    <tr>\n",
       "      <th>num_16</th>\n",
       "      <td>5612</td>\n",
       "      <td>0.59</td>\n",
       "    </tr>\n",
       "    <tr>\n",
       "      <th>num_5</th>\n",
       "      <td>5139</td>\n",
       "      <td>0.54</td>\n",
       "    </tr>\n",
       "    <tr>\n",
       "      <th>num_34</th>\n",
       "      <td>0</td>\n",
       "      <td>0.00</td>\n",
       "    </tr>\n",
       "  </tbody>\n",
       "</table>\n",
       "</div>"
      ],
      "text/plain": [
       "        Количество выбросов  Доля выбросов\n",
       "num_15                39467           4.16\n",
       "num_25                39216           4.14\n",
       "num_18                35428           3.74\n",
       "num_17                35510           3.74\n",
       "num_9                 34613           3.65\n",
       "num_20                34468           3.63\n",
       "num_8                 34170           3.60\n",
       "num_24                27989           2.95\n",
       "num_14                27950           2.95\n",
       "num_13                25066           2.64\n",
       "num_23                25047           2.64\n",
       "num_2                 23058           2.43\n",
       "num_26                22160           2.34\n",
       "num_29                21428           2.26\n",
       "num_3                 19899           2.10\n",
       "num_27                19174           2.02\n",
       "num_28                17690           1.87\n",
       "num_30                16918           1.78\n",
       "num_1                 16867           1.78\n",
       "num_6                 16785           1.77\n",
       "num_0                 16037           1.69\n",
       "num_31                12870           1.36\n",
       "num_21                12305           1.30\n",
       "num_33                12252           1.29\n",
       "num_11                11968           1.26\n",
       "num_36                 9812           1.03\n",
       "num_35                 9564           1.01\n",
       "num_22                 8772           0.92\n",
       "num_12                 8693           0.92\n",
       "num_32                 7908           0.83\n",
       "num_19                 7566           0.80\n",
       "num_10                 7518           0.79\n",
       "num_4                  7488           0.79\n",
       "num_7                  5650           0.60\n",
       "num_16                 5612           0.59\n",
       "num_5                  5139           0.54\n",
       "num_34                    0           0.00"
      ]
     },
     "execution_count": 60,
     "metadata": {},
     "output_type": "execute_result"
    }
   ],
   "source": [
    "count_outliers(df).sort_values(by='Доля выбросов', ascending=False)"
   ]
  },
  {
   "cell_type": "markdown",
   "metadata": {},
   "source": [
    "Все численные переменные, кроме num_34, имеют выбросы, в процентном отношении – до 4% от общего количество данных. Есть нескольков вариантов, что мы можем с ними сделать. Так как данные обезличены, мы не можем проверить их на системные ошибки (ошибки, связанные со сбором данных). Мы можем убрать их совсем, заполнить медианными значениями или кэпировать – установить верхнюю границу. Cначала проверим отличаются ли выбросы особенным поведением по отношению к целевой переменной."
   ]
  },
  {
   "cell_type": "code",
   "execution_count": 61,
   "metadata": {},
   "outputs": [],
   "source": [
    "def outliers_vs_target(data):\n",
    "    outlier_target_share_list = []\n",
    "    nonoutlier_target_share_list = []\n",
    "    for i in range(37):\n",
    "        column = 'num_%s' % i\n",
    "        absolute = np.abs(data[column])\n",
    "        outlier_target_share = round(((data[(data['target'] == 1) & (absolute > 3)][column].count() / data[column][(absolute > 3)].count())) * 100, 2)\n",
    "        nonoutlier_target_share = round(((data[(data['target'] == 1) & (absolute < 3)][column].count() / data[column][(absolute < 3)].count())) * 100, 2)\n",
    "        outlier_target_share_list.append(outlier_target_share)\n",
    "        nonoutlier_target_share_list.append(nonoutlier_target_share)      \n",
    "    return pd.DataFrame({\"Доля отмен среди выбросов\": outlier_target_share_list, \"Доля отмен среди остальных\": nonoutlier_target_share_list}, index=['num_%s' % x for x in range(37)])"
   ]
  },
  {
   "cell_type": "code",
   "execution_count": 64,
   "metadata": {},
   "outputs": [],
   "source": [
    "outlier_cancellations = outliers_vs_target(df)"
   ]
  },
  {
   "cell_type": "code",
   "execution_count": 65,
   "metadata": {
    "scrolled": true
   },
   "outputs": [
    {
     "data": {
      "text/html": [
       "<div>\n",
       "<style scoped>\n",
       "    .dataframe tbody tr th:only-of-type {\n",
       "        vertical-align: middle;\n",
       "    }\n",
       "\n",
       "    .dataframe tbody tr th {\n",
       "        vertical-align: top;\n",
       "    }\n",
       "\n",
       "    .dataframe thead th {\n",
       "        text-align: right;\n",
       "    }\n",
       "</style>\n",
       "<table border=\"1\" class=\"dataframe\">\n",
       "  <thead>\n",
       "    <tr style=\"text-align: right;\">\n",
       "      <th></th>\n",
       "      <th>Доля отмен среди выбросов</th>\n",
       "      <th>Доля отмен среди остальных</th>\n",
       "    </tr>\n",
       "  </thead>\n",
       "  <tbody>\n",
       "    <tr>\n",
       "      <th>num_36</th>\n",
       "      <td>75.40</td>\n",
       "      <td>39.44</td>\n",
       "    </tr>\n",
       "    <tr>\n",
       "      <th>num_6</th>\n",
       "      <td>74.36</td>\n",
       "      <td>39.19</td>\n",
       "    </tr>\n",
       "    <tr>\n",
       "      <th>num_29</th>\n",
       "      <td>73.16</td>\n",
       "      <td>39.04</td>\n",
       "    </tr>\n",
       "    <tr>\n",
       "      <th>num_4</th>\n",
       "      <td>72.10</td>\n",
       "      <td>39.56</td>\n",
       "    </tr>\n",
       "    <tr>\n",
       "      <th>num_2</th>\n",
       "      <td>68.54</td>\n",
       "      <td>39.10</td>\n",
       "    </tr>\n",
       "    <tr>\n",
       "      <th>num_35</th>\n",
       "      <td>67.75</td>\n",
       "      <td>39.53</td>\n",
       "    </tr>\n",
       "    <tr>\n",
       "      <th>num_26</th>\n",
       "      <td>67.17</td>\n",
       "      <td>39.16</td>\n",
       "    </tr>\n",
       "    <tr>\n",
       "      <th>num_32</th>\n",
       "      <td>62.27</td>\n",
       "      <td>39.62</td>\n",
       "    </tr>\n",
       "    <tr>\n",
       "      <th>num_10</th>\n",
       "      <td>56.04</td>\n",
       "      <td>39.68</td>\n",
       "    </tr>\n",
       "    <tr>\n",
       "      <th>num_19</th>\n",
       "      <td>55.79</td>\n",
       "      <td>39.68</td>\n",
       "    </tr>\n",
       "    <tr>\n",
       "      <th>num_3</th>\n",
       "      <td>53.13</td>\n",
       "      <td>39.53</td>\n",
       "    </tr>\n",
       "    <tr>\n",
       "      <th>num_22</th>\n",
       "      <td>51.81</td>\n",
       "      <td>39.70</td>\n",
       "    </tr>\n",
       "    <tr>\n",
       "      <th>num_12</th>\n",
       "      <td>51.78</td>\n",
       "      <td>39.70</td>\n",
       "    </tr>\n",
       "    <tr>\n",
       "      <th>num_1</th>\n",
       "      <td>50.22</td>\n",
       "      <td>39.62</td>\n",
       "    </tr>\n",
       "    <tr>\n",
       "      <th>num_7</th>\n",
       "      <td>48.04</td>\n",
       "      <td>39.76</td>\n",
       "    </tr>\n",
       "    <tr>\n",
       "      <th>num_11</th>\n",
       "      <td>47.05</td>\n",
       "      <td>39.72</td>\n",
       "    </tr>\n",
       "    <tr>\n",
       "      <th>num_21</th>\n",
       "      <td>46.80</td>\n",
       "      <td>39.72</td>\n",
       "    </tr>\n",
       "    <tr>\n",
       "      <th>num_31</th>\n",
       "      <td>46.76</td>\n",
       "      <td>39.72</td>\n",
       "    </tr>\n",
       "    <tr>\n",
       "      <th>num_16</th>\n",
       "      <td>45.74</td>\n",
       "      <td>39.78</td>\n",
       "    </tr>\n",
       "    <tr>\n",
       "      <th>num_0</th>\n",
       "      <td>43.69</td>\n",
       "      <td>39.75</td>\n",
       "    </tr>\n",
       "    <tr>\n",
       "      <th>num_5</th>\n",
       "      <td>41.56</td>\n",
       "      <td>39.80</td>\n",
       "    </tr>\n",
       "    <tr>\n",
       "      <th>num_27</th>\n",
       "      <td>35.30</td>\n",
       "      <td>39.91</td>\n",
       "    </tr>\n",
       "    <tr>\n",
       "      <th>num_17</th>\n",
       "      <td>34.76</td>\n",
       "      <td>40.01</td>\n",
       "    </tr>\n",
       "    <tr>\n",
       "      <th>num_28</th>\n",
       "      <td>34.61</td>\n",
       "      <td>39.91</td>\n",
       "    </tr>\n",
       "    <tr>\n",
       "      <th>num_24</th>\n",
       "      <td>34.60</td>\n",
       "      <td>39.97</td>\n",
       "    </tr>\n",
       "    <tr>\n",
       "      <th>num_18</th>\n",
       "      <td>34.43</td>\n",
       "      <td>40.02</td>\n",
       "    </tr>\n",
       "    <tr>\n",
       "      <th>num_14</th>\n",
       "      <td>34.42</td>\n",
       "      <td>39.98</td>\n",
       "    </tr>\n",
       "    <tr>\n",
       "      <th>num_9</th>\n",
       "      <td>34.25</td>\n",
       "      <td>40.02</td>\n",
       "    </tr>\n",
       "    <tr>\n",
       "      <th>num_20</th>\n",
       "      <td>34.23</td>\n",
       "      <td>40.02</td>\n",
       "    </tr>\n",
       "    <tr>\n",
       "      <th>num_8</th>\n",
       "      <td>34.20</td>\n",
       "      <td>40.02</td>\n",
       "    </tr>\n",
       "    <tr>\n",
       "      <th>num_30</th>\n",
       "      <td>34.19</td>\n",
       "      <td>39.91</td>\n",
       "    </tr>\n",
       "    <tr>\n",
       "      <th>num_25</th>\n",
       "      <td>34.13</td>\n",
       "      <td>40.06</td>\n",
       "    </tr>\n",
       "    <tr>\n",
       "      <th>num_15</th>\n",
       "      <td>34.12</td>\n",
       "      <td>40.06</td>\n",
       "    </tr>\n",
       "    <tr>\n",
       "      <th>num_33</th>\n",
       "      <td>33.62</td>\n",
       "      <td>39.89</td>\n",
       "    </tr>\n",
       "    <tr>\n",
       "      <th>num_23</th>\n",
       "      <td>31.29</td>\n",
       "      <td>40.04</td>\n",
       "    </tr>\n",
       "    <tr>\n",
       "      <th>num_13</th>\n",
       "      <td>31.29</td>\n",
       "      <td>40.04</td>\n",
       "    </tr>\n",
       "    <tr>\n",
       "      <th>num_34</th>\n",
       "      <td>NaN</td>\n",
       "      <td>39.81</td>\n",
       "    </tr>\n",
       "  </tbody>\n",
       "</table>\n",
       "</div>"
      ],
      "text/plain": [
       "        Доля отмен среди выбросов  Доля отмен среди остальных\n",
       "num_36                      75.40                       39.44\n",
       "num_6                       74.36                       39.19\n",
       "num_29                      73.16                       39.04\n",
       "num_4                       72.10                       39.56\n",
       "num_2                       68.54                       39.10\n",
       "num_35                      67.75                       39.53\n",
       "num_26                      67.17                       39.16\n",
       "num_32                      62.27                       39.62\n",
       "num_10                      56.04                       39.68\n",
       "num_19                      55.79                       39.68\n",
       "num_3                       53.13                       39.53\n",
       "num_22                      51.81                       39.70\n",
       "num_12                      51.78                       39.70\n",
       "num_1                       50.22                       39.62\n",
       "num_7                       48.04                       39.76\n",
       "num_11                      47.05                       39.72\n",
       "num_21                      46.80                       39.72\n",
       "num_31                      46.76                       39.72\n",
       "num_16                      45.74                       39.78\n",
       "num_0                       43.69                       39.75\n",
       "num_5                       41.56                       39.80\n",
       "num_27                      35.30                       39.91\n",
       "num_17                      34.76                       40.01\n",
       "num_28                      34.61                       39.91\n",
       "num_24                      34.60                       39.97\n",
       "num_18                      34.43                       40.02\n",
       "num_14                      34.42                       39.98\n",
       "num_9                       34.25                       40.02\n",
       "num_20                      34.23                       40.02\n",
       "num_8                       34.20                       40.02\n",
       "num_30                      34.19                       39.91\n",
       "num_25                      34.13                       40.06\n",
       "num_15                      34.12                       40.06\n",
       "num_33                      33.62                       39.89\n",
       "num_23                      31.29                       40.04\n",
       "num_13                      31.29                       40.04\n",
       "num_34                        NaN                       39.81"
      ]
     },
     "execution_count": 65,
     "metadata": {},
     "output_type": "execute_result"
    }
   ],
   "source": [
    "outlier_cancellations.sort_values(by='Доля отмен среди выбросов', ascending=False)"
   ]
  },
  {
   "cell_type": "markdown",
   "metadata": {},
   "source": [
    "По многим переменным разница действительно есть. Отберем те, где разница превышает 10%."
   ]
  },
  {
   "cell_type": "code",
   "execution_count": 150,
   "metadata": {},
   "outputs": [],
   "source": [
    "filtered_outliers = outlier_cancellations[(outlier_cancellations['Доля отмен среди выбросов'] - outlier_cancellations['Доля отмен среди остальных']) >= 10].sort_values(by='Доля отмен среди выбросов', ascending=False)"
   ]
  },
  {
   "cell_type": "code",
   "execution_count": 151,
   "metadata": {},
   "outputs": [
    {
     "data": {
      "text/html": [
       "<div>\n",
       "<style scoped>\n",
       "    .dataframe tbody tr th:only-of-type {\n",
       "        vertical-align: middle;\n",
       "    }\n",
       "\n",
       "    .dataframe tbody tr th {\n",
       "        vertical-align: top;\n",
       "    }\n",
       "\n",
       "    .dataframe thead th {\n",
       "        text-align: right;\n",
       "    }\n",
       "</style>\n",
       "<table border=\"1\" class=\"dataframe\">\n",
       "  <thead>\n",
       "    <tr style=\"text-align: right;\">\n",
       "      <th></th>\n",
       "      <th>Доля отмен среди выбросов</th>\n",
       "      <th>Доля отмен среди остальных</th>\n",
       "    </tr>\n",
       "  </thead>\n",
       "  <tbody>\n",
       "    <tr>\n",
       "      <th>num_36</th>\n",
       "      <td>75.40</td>\n",
       "      <td>39.44</td>\n",
       "    </tr>\n",
       "    <tr>\n",
       "      <th>num_6</th>\n",
       "      <td>74.36</td>\n",
       "      <td>39.19</td>\n",
       "    </tr>\n",
       "    <tr>\n",
       "      <th>num_29</th>\n",
       "      <td>73.16</td>\n",
       "      <td>39.04</td>\n",
       "    </tr>\n",
       "    <tr>\n",
       "      <th>num_4</th>\n",
       "      <td>72.10</td>\n",
       "      <td>39.56</td>\n",
       "    </tr>\n",
       "    <tr>\n",
       "      <th>num_2</th>\n",
       "      <td>68.54</td>\n",
       "      <td>39.10</td>\n",
       "    </tr>\n",
       "    <tr>\n",
       "      <th>num_35</th>\n",
       "      <td>67.75</td>\n",
       "      <td>39.53</td>\n",
       "    </tr>\n",
       "    <tr>\n",
       "      <th>num_26</th>\n",
       "      <td>67.17</td>\n",
       "      <td>39.16</td>\n",
       "    </tr>\n",
       "    <tr>\n",
       "      <th>num_32</th>\n",
       "      <td>62.27</td>\n",
       "      <td>39.62</td>\n",
       "    </tr>\n",
       "    <tr>\n",
       "      <th>num_10</th>\n",
       "      <td>56.04</td>\n",
       "      <td>39.68</td>\n",
       "    </tr>\n",
       "    <tr>\n",
       "      <th>num_19</th>\n",
       "      <td>55.79</td>\n",
       "      <td>39.68</td>\n",
       "    </tr>\n",
       "    <tr>\n",
       "      <th>num_3</th>\n",
       "      <td>53.13</td>\n",
       "      <td>39.53</td>\n",
       "    </tr>\n",
       "    <tr>\n",
       "      <th>num_22</th>\n",
       "      <td>51.81</td>\n",
       "      <td>39.70</td>\n",
       "    </tr>\n",
       "    <tr>\n",
       "      <th>num_12</th>\n",
       "      <td>51.78</td>\n",
       "      <td>39.70</td>\n",
       "    </tr>\n",
       "    <tr>\n",
       "      <th>num_1</th>\n",
       "      <td>50.22</td>\n",
       "      <td>39.62</td>\n",
       "    </tr>\n",
       "  </tbody>\n",
       "</table>\n",
       "</div>"
      ],
      "text/plain": [
       "        Доля отмен среди выбросов  Доля отмен среди остальных\n",
       "num_36                      75.40                       39.44\n",
       "num_6                       74.36                       39.19\n",
       "num_29                      73.16                       39.04\n",
       "num_4                       72.10                       39.56\n",
       "num_2                       68.54                       39.10\n",
       "num_35                      67.75                       39.53\n",
       "num_26                      67.17                       39.16\n",
       "num_32                      62.27                       39.62\n",
       "num_10                      56.04                       39.68\n",
       "num_19                      55.79                       39.68\n",
       "num_3                       53.13                       39.53\n",
       "num_22                      51.81                       39.70\n",
       "num_12                      51.78                       39.70\n",
       "num_1                       50.22                       39.62"
      ]
     },
     "execution_count": 151,
     "metadata": {},
     "output_type": "execute_result"
    }
   ],
   "source": [
    "filtered_outliers"
   ]
  },
  {
   "cell_type": "markdown",
   "metadata": {},
   "source": [
    "Из 37 численных переменных, 14 имеют выбросы, поведение которых на целевую переменную отличается более чем на 10% от данных, не являющимися выбросами. Из них половина отличается на 28-35% в большую сторону. То есть, среди таких выбросов гораздо чаще происходят отмены бронирования."
   ]
  },
  {
   "cell_type": "code",
   "execution_count": 19,
   "metadata": {},
   "outputs": [],
   "source": [
    "def make_stripplot(feature, data):\n",
    "    absolute = np.abs(data[feature])\n",
    "    sns.stripplot(x='target', y=feature, data=data, alpha=0.3, jitter=True);"
   ]
  },
  {
   "cell_type": "code",
   "execution_count": 20,
   "metadata": {
    "scrolled": true
   },
   "outputs": [
    {
     "data": {
      "image/png": "[encoded data removed]",
      "text/plain": [
       "<Figure size 432x288 with 1 Axes>"
      ]
     },
     "metadata": {
      "needs_background": "light"
     },
     "output_type": "display_data"
    }
   ],
   "source": [
    "make_stripplot('num_36', df)"
   ]
  },
  {
   "cell_type": "code",
   "execution_count": 21,
   "metadata": {
    "scrolled": true
   },
   "outputs": [
    {
     "data": {
      "image/png": "[encoded data removed]",
      "text/plain": [
       "<Figure size 432x288 with 1 Axes>"
      ]
     },
     "metadata": {
      "needs_background": "light"
     },
     "output_type": "display_data"
    }
   ],
   "source": [
    "make_stripplot('num_6', df)"
   ]
  },
  {
   "cell_type": "code",
   "execution_count": 154,
   "metadata": {},
   "outputs": [],
   "source": [
    "for num in nums:\n",
    "    if num in filtered_outliers.index.to_list():\n",
    "        anomaly_column_name = num + \"_anom\"\n",
    "        df[anomaly_column_name] = df[num].apply(lambda x: 1 if abs(x) > 3 else 0)\n",
    "    median = df[num].median()\n",
    "    df[num] = df[num].apply(lambda x: median if abs(x) > 3 else x)"
   ]
  },
  {
   "cell_type": "markdown",
   "metadata": {},
   "source": [
    "Заменим выбросы на медианные значения, а для аномальных переменных создадим бинарники."
   ]
  },
  {
   "cell_type": "code",
   "execution_count": 165,
   "metadata": {
    "scrolled": false
   },
   "outputs": [
    {
     "data": {
      "image/png": "[encoded data removed]",
      "text/plain": [
       "<Figure size 1800x1440 with 42 Axes>"
      ]
     },
     "metadata": {
      "needs_background": "light"
     },
     "output_type": "display_data"
    }
   ],
   "source": [
    "df[nums].hist(figsize=(25, 20));"
   ]
  },
  {
   "cell_type": "code",
   "execution_count": 166,
   "metadata": {},
   "outputs": [],
   "source": [
    "df = df.sort_values(by='created_date_time')"
   ]
  },
  {
   "cell_type": "code",
   "execution_count": 167,
   "metadata": {},
   "outputs": [
    {
     "data": {
      "text/html": [
       "<div>\n",
       "<style scoped>\n",
       "    .dataframe tbody tr th:only-of-type {\n",
       "        vertical-align: middle;\n",
       "    }\n",
       "\n",
       "    .dataframe tbody tr th {\n",
       "        vertical-align: top;\n",
       "    }\n",
       "\n",
       "    .dataframe thead th {\n",
       "        text-align: right;\n",
       "    }\n",
       "</style>\n",
       "<table border=\"1\" class=\"dataframe\">\n",
       "  <thead>\n",
       "    <tr style=\"text-align: right;\">\n",
       "      <th></th>\n",
       "      <th>created_date_time</th>\n",
       "      <th>target</th>\n",
       "      <th>cat_0</th>\n",
       "      <th>cat_1</th>\n",
       "      <th>cat_2</th>\n",
       "      <th>cat_3</th>\n",
       "      <th>cat_4</th>\n",
       "      <th>cat_5</th>\n",
       "      <th>cat_6</th>\n",
       "      <th>cat_7</th>\n",
       "      <th>...</th>\n",
       "      <th>num_6_anom</th>\n",
       "      <th>num_10_anom</th>\n",
       "      <th>num_12_anom</th>\n",
       "      <th>num_19_anom</th>\n",
       "      <th>num_22_anom</th>\n",
       "      <th>num_26_anom</th>\n",
       "      <th>num_29_anom</th>\n",
       "      <th>num_32_anom</th>\n",
       "      <th>num_35_anom</th>\n",
       "      <th>num_36_anom</th>\n",
       "    </tr>\n",
       "  </thead>\n",
       "  <tbody>\n",
       "    <tr>\n",
       "      <th>611164</th>\n",
       "      <td>2011-06-24 13:01:36.548608</td>\n",
       "      <td>1</td>\n",
       "      <td>3</td>\n",
       "      <td>2</td>\n",
       "      <td>5</td>\n",
       "      <td>1</td>\n",
       "      <td>764</td>\n",
       "      <td>32</td>\n",
       "      <td>3</td>\n",
       "      <td>3</td>\n",
       "      <td>...</td>\n",
       "      <td>0</td>\n",
       "      <td>0</td>\n",
       "      <td>0</td>\n",
       "      <td>0</td>\n",
       "      <td>0</td>\n",
       "      <td>1</td>\n",
       "      <td>0</td>\n",
       "      <td>0</td>\n",
       "      <td>0</td>\n",
       "      <td>0</td>\n",
       "    </tr>\n",
       "    <tr>\n",
       "      <th>791745</th>\n",
       "      <td>2011-06-24 13:34:54.324251</td>\n",
       "      <td>1</td>\n",
       "      <td>3</td>\n",
       "      <td>3</td>\n",
       "      <td>5</td>\n",
       "      <td>1</td>\n",
       "      <td>104</td>\n",
       "      <td>68</td>\n",
       "      <td>3</td>\n",
       "      <td>3</td>\n",
       "      <td>...</td>\n",
       "      <td>0</td>\n",
       "      <td>0</td>\n",
       "      <td>0</td>\n",
       "      <td>0</td>\n",
       "      <td>0</td>\n",
       "      <td>0</td>\n",
       "      <td>0</td>\n",
       "      <td>0</td>\n",
       "      <td>0</td>\n",
       "      <td>0</td>\n",
       "    </tr>\n",
       "    <tr>\n",
       "      <th>157296</th>\n",
       "      <td>2011-06-27 20:25:50.950969</td>\n",
       "      <td>1</td>\n",
       "      <td>3</td>\n",
       "      <td>3</td>\n",
       "      <td>5</td>\n",
       "      <td>1</td>\n",
       "      <td>98</td>\n",
       "      <td>143</td>\n",
       "      <td>3</td>\n",
       "      <td>3</td>\n",
       "      <td>...</td>\n",
       "      <td>0</td>\n",
       "      <td>0</td>\n",
       "      <td>0</td>\n",
       "      <td>0</td>\n",
       "      <td>0</td>\n",
       "      <td>0</td>\n",
       "      <td>0</td>\n",
       "      <td>0</td>\n",
       "      <td>0</td>\n",
       "      <td>0</td>\n",
       "    </tr>\n",
       "    <tr>\n",
       "      <th>279946</th>\n",
       "      <td>2011-06-27 20:40:58.471283</td>\n",
       "      <td>0</td>\n",
       "      <td>3</td>\n",
       "      <td>3</td>\n",
       "      <td>5</td>\n",
       "      <td>1</td>\n",
       "      <td>98</td>\n",
       "      <td>143</td>\n",
       "      <td>3</td>\n",
       "      <td>3</td>\n",
       "      <td>...</td>\n",
       "      <td>0</td>\n",
       "      <td>0</td>\n",
       "      <td>0</td>\n",
       "      <td>0</td>\n",
       "      <td>0</td>\n",
       "      <td>0</td>\n",
       "      <td>0</td>\n",
       "      <td>0</td>\n",
       "      <td>0</td>\n",
       "      <td>0</td>\n",
       "    </tr>\n",
       "    <tr>\n",
       "      <th>898680</th>\n",
       "      <td>2011-06-27 21:07:37.230744</td>\n",
       "      <td>1</td>\n",
       "      <td>3</td>\n",
       "      <td>3</td>\n",
       "      <td>5</td>\n",
       "      <td>1</td>\n",
       "      <td>98</td>\n",
       "      <td>143</td>\n",
       "      <td>3</td>\n",
       "      <td>3</td>\n",
       "      <td>...</td>\n",
       "      <td>0</td>\n",
       "      <td>0</td>\n",
       "      <td>0</td>\n",
       "      <td>0</td>\n",
       "      <td>0</td>\n",
       "      <td>0</td>\n",
       "      <td>0</td>\n",
       "      <td>0</td>\n",
       "      <td>0</td>\n",
       "      <td>0</td>\n",
       "    </tr>\n",
       "  </tbody>\n",
       "</table>\n",
       "<p>5 rows × 64 columns</p>\n",
       "</div>"
      ],
      "text/plain": [
       "                created_date_time  target  cat_0  cat_1  cat_2  cat_3  cat_4  \\\n",
       "611164 2011-06-24 13:01:36.548608       1      3      2      5      1    764   \n",
       "791745 2011-06-24 13:34:54.324251       1      3      3      5      1    104   \n",
       "157296 2011-06-27 20:25:50.950969       1      3      3      5      1     98   \n",
       "279946 2011-06-27 20:40:58.471283       0      3      3      5      1     98   \n",
       "898680 2011-06-27 21:07:37.230744       1      3      3      5      1     98   \n",
       "\n",
       "        cat_5  cat_6  cat_7  ...  num_6_anom  num_10_anom  num_12_anom  \\\n",
       "611164     32      3      3  ...           0            0            0   \n",
       "791745     68      3      3  ...           0            0            0   \n",
       "157296    143      3      3  ...           0            0            0   \n",
       "279946    143      3      3  ...           0            0            0   \n",
       "898680    143      3      3  ...           0            0            0   \n",
       "\n",
       "        num_19_anom  num_22_anom  num_26_anom  num_29_anom  num_32_anom  \\\n",
       "611164            0            0            1            0            0   \n",
       "791745            0            0            0            0            0   \n",
       "157296            0            0            0            0            0   \n",
       "279946            0            0            0            0            0   \n",
       "898680            0            0            0            0            0   \n",
       "\n",
       "        num_35_anom  num_36_anom  \n",
       "611164            0            0  \n",
       "791745            0            0  \n",
       "157296            0            0  \n",
       "279946            0            0  \n",
       "898680            0            0  \n",
       "\n",
       "[5 rows x 64 columns]"
      ]
     },
     "execution_count": 167,
     "metadata": {},
     "output_type": "execute_result"
    }
   ],
   "source": [
    "df.head()"
   ]
  },
  {
   "cell_type": "markdown",
   "metadata": {},
   "source": [
    "# 2. Exploratory Data Analysis"
   ]
  },
  {
   "cell_type": "code",
   "execution_count": 23,
   "metadata": {
    "scrolled": true
   },
   "outputs": [
    {
     "data": {
      "image/png": "[encoded data removed]",
      "text/plain": [
       "<Figure size 432x288 with 1 Axes>"
      ]
     },
     "metadata": {
      "needs_background": "light"
     },
     "output_type": "display_data"
    }
   ],
   "source": [
    "sns.countplot(x='target', data=df);"
   ]
  },
  {
   "cell_type": "code",
   "execution_count": 24,
   "metadata": {},
   "outputs": [
    {
     "data": {
      "text/plain": [
       "0    0.601871\n",
       "1    0.398129\n",
       "Name: target, dtype: float64"
      ]
     },
     "execution_count": 24,
     "metadata": {},
     "output_type": "execute_result"
    }
   ],
   "source": [
    "df['target'].value_counts(normalize=True)"
   ]
  },
  {
   "cell_type": "markdown",
   "metadata": {},
   "source": [
    "На целевой класс приходится 40% данных, поэтому мы не имеем дело с дисбалансом классов (правило 60/40)."
   ]
  },
  {
   "cell_type": "markdown",
   "metadata": {},
   "source": [
    "Создадим временные переменные."
   ]
  },
  {
   "cell_type": "code",
   "execution_count": 39,
   "metadata": {},
   "outputs": [],
   "source": [
    "df['year'] = (df['created_date_time'].dt.year)\n",
    "df['month'] = (df['created_date_time'].dt.month)\n",
    "df['day'] = (df['created_date_time'].dt.day)\n",
    "df['hour'] = (df['created_date_time'].dt.hour)\n",
    "df['dayofweek'] = (df['created_date_time'].dt.dayofweek)"
   ]
  },
  {
   "cell_type": "code",
   "execution_count": 59,
   "metadata": {
    "scrolled": true
   },
   "outputs": [
    {
     "data": {
      "text/plain": [
       "<matplotlib.axes._subplots.AxesSubplot at 0x1a78ecf0b8>"
      ]
     },
     "execution_count": 59,
     "metadata": {},
     "output_type": "execute_result"
    },
    {
     "data": {
      "image/png": "[encoded data removed]",
      "text/plain": [
       "<Figure size 432x288 with 1 Axes>"
      ]
     },
     "metadata": {
      "needs_background": "light"
     },
     "output_type": "display_data"
    }
   ],
   "source": [
    "sns.countplot(x=\"year\", hue=\"target\", data=df)"
   ]
  },
  {
   "cell_type": "markdown",
   "metadata": {},
   "source": [
    "Количество бронирований растет практически одинаково с каждым годом. Выше темп роста в 2015 году, процент отмен также слегка растет с каждым годом. Аномальный год – 2011-й, его можно будет исключить из выборки."
   ]
  },
  {
   "cell_type": "code",
   "execution_count": 66,
   "metadata": {
    "scrolled": false
   },
   "outputs": [
    {
     "data": {
      "text/plain": [
       "<matplotlib.axes._subplots.AxesSubplot at 0x1a4a3610b8>"
      ]
     },
     "execution_count": 66,
     "metadata": {},
     "output_type": "execute_result"
    },
    {
     "data": {
      "image/png": "[encoded data removed]",
      "text/plain": [
       "<Figure size 432x288 with 1 Axes>"
      ]
     },
     "metadata": {
      "needs_background": "light"
     },
     "output_type": "display_data"
    }
   ],
   "source": [
    "sns.countplot(x=\"month\", hue=\"target\", data=df)"
   ]
  },
  {
   "cell_type": "markdown",
   "metadata": {},
   "source": [
    "Количество бронирований растет с января по июль, после чего выходит на плато с локальным ростом в октябре. Отмены следуют за этим же паттерном, кроме октября. В январе количество бронирований резко падает. Основной сезон – лето и новый год, зимой и весной отдыхают меньше."
   ]
  },
  {
   "cell_type": "code",
   "execution_count": 67,
   "metadata": {
    "scrolled": true
   },
   "outputs": [
    {
     "data": {
      "text/plain": [
       "<matplotlib.axes._subplots.AxesSubplot at 0x1a499d5160>"
      ]
     },
     "execution_count": 67,
     "metadata": {},
     "output_type": "execute_result"
    },
    {
     "data": {
      "image/png": "[encoded data removed]",
      "text/plain": [
       "<Figure size 432x288 with 1 Axes>"
      ]
     },
     "metadata": {
      "needs_background": "light"
     },
     "output_type": "display_data"
    }
   ],
   "source": [
    "sns.countplot(x=\"dayofweek\", hue=\"target\", data=df)"
   ]
  },
  {
   "cell_type": "markdown",
   "metadata": {},
   "source": [
    "Количество отмен и бронирований в течение недели не меняется, в пятницу начинает снижаться. Меньше всего – на выходных. Основные поездки происходят на выходных, поэтому если человек дотянул до выходных, и не отменил, то, скорее всего, поедет."
   ]
  },
  {
   "cell_type": "code",
   "execution_count": 68,
   "metadata": {
    "scrolled": true
   },
   "outputs": [
    {
     "data": {
      "text/plain": [
       "<matplotlib.axes._subplots.AxesSubplot at 0x1a794c1208>"
      ]
     },
     "execution_count": 68,
     "metadata": {},
     "output_type": "execute_result"
    },
    {
     "data": {
      "image/png": "[encoded data removed]",
      "text/plain": [
       "<Figure size 432x288 with 1 Axes>"
      ]
     },
     "metadata": {
      "needs_background": "light"
     },
     "output_type": "display_data"
    }
   ],
   "source": [
    "sns.countplot(x=\"hour\", hue=\"target\", data=df)"
   ]
  },
  {
   "cell_type": "markdown",
   "metadata": {},
   "source": [
    "Основная активность в период с 8 до 14 часов утра с пиком в 11 утра. Второй более слабый период активности после обеда, с 16 до 19 часов с пиком в 17 часов, то есть перед уходом с работы. Дальше сильно снижается."
   ]
  },
  {
   "cell_type": "code",
   "execution_count": 69,
   "metadata": {
    "scrolled": true
   },
   "outputs": [
    {
     "data": {
      "text/plain": [
       "<matplotlib.axes._subplots.AxesSubplot at 0x1a62369eb8>"
      ]
     },
     "execution_count": 69,
     "metadata": {},
     "output_type": "execute_result"
    },
    {
     "data": {
      "image/png": "[encoded data removed]",
      "text/plain": [
       "<Figure size 432x288 with 1 Axes>"
      ]
     },
     "metadata": {
      "needs_background": "light"
     },
     "output_type": "display_data"
    }
   ],
   "source": [
    "sns.countplot(x=\"cat_0\", hue=\"target\", data=df)"
   ]
  },
  {
   "cell_type": "markdown",
   "metadata": {},
   "source": [
    "Cat_0 – самый популярный класс 0, относительно большое число отмен среди класса 2."
   ]
  },
  {
   "cell_type": "code",
   "execution_count": 70,
   "metadata": {},
   "outputs": [
    {
     "data": {
      "text/plain": [
       "<matplotlib.axes._subplots.AxesSubplot at 0x1a4925be80>"
      ]
     },
     "execution_count": 70,
     "metadata": {},
     "output_type": "execute_result"
    },
    {
     "data": {
      "image/png": "[encoded data removed]",
      "text/plain": [
       "<Figure size 432x288 with 1 Axes>"
      ]
     },
     "metadata": {
      "needs_background": "light"
     },
     "output_type": "display_data"
    }
   ],
   "source": [
    "sns.countplot(x=\"cat_1\", hue=\"target\", data=df)"
   ]
  },
  {
   "cell_type": "markdown",
   "metadata": {},
   "source": [
    "Cat_1 – самый популярный класс 0, довольно большое число отмен. Во втором классе отмен даже больше, чем не отмен, что уникально для всех категориальных переменных. У третьего класса наоборот низкое число отмен. Хороший кандидат."
   ]
  },
  {
   "cell_type": "code",
   "execution_count": 71,
   "metadata": {
    "scrolled": true
   },
   "outputs": [
    {
     "data": {
      "text/plain": [
       "<matplotlib.axes._subplots.AxesSubplot at 0x1a65cb5240>"
      ]
     },
     "execution_count": 71,
     "metadata": {},
     "output_type": "execute_result"
    },
    {
     "data": {
      "image/png": "[encoded data removed]",
      "text/plain": [
       "<Figure size 432x288 with 1 Axes>"
      ]
     },
     "metadata": {
      "needs_background": "light"
     },
     "output_type": "display_data"
    }
   ],
   "source": [
    "sns.countplot(x=\"cat_2\", hue=\"target\", data=df)"
   ]
  },
  {
   "cell_type": "code",
   "execution_count": 72,
   "metadata": {},
   "outputs": [
    {
     "data": {
      "text/plain": [
       "<matplotlib.axes._subplots.AxesSubplot at 0x1a62319908>"
      ]
     },
     "execution_count": 72,
     "metadata": {},
     "output_type": "execute_result"
    },
    {
     "data": {
      "image/png": "[encoded data removed]",
      "text/plain": [
       "<Figure size 432x288 with 1 Axes>"
      ]
     },
     "metadata": {
      "needs_background": "light"
     },
     "output_type": "display_data"
    }
   ],
   "source": [
    "sns.countplot(x=\"cat_3\", hue=\"target\", data=df)"
   ]
  },
  {
   "cell_type": "code",
   "execution_count": 76,
   "metadata": {},
   "outputs": [
    {
     "data": {
      "text/plain": [
       "<matplotlib.axes._subplots.AxesSubplot at 0x1a72545eb8>"
      ]
     },
     "execution_count": 76,
     "metadata": {},
     "output_type": "execute_result"
    },
    {
     "data": {
      "image/png": "[encoded data removed]",
      "text/plain": [
       "<Figure size 432x288 with 1 Axes>"
      ]
     },
     "metadata": {
      "needs_background": "light"
     },
     "output_type": "display_data"
    }
   ],
   "source": [
    "sns.countplot(x=\"cat_6\", hue=\"target\", data=df)"
   ]
  },
  {
   "cell_type": "code",
   "execution_count": 87,
   "metadata": {
    "scrolled": true
   },
   "outputs": [
    {
     "data": {
      "text/plain": [
       "<matplotlib.axes._subplots.AxesSubplot at 0x1a695e85f8>"
      ]
     },
     "execution_count": 87,
     "metadata": {},
     "output_type": "execute_result"
    },
    {
     "data": {
      "image/png": "[encoded data removed]",
      "text/plain": [
       "<Figure size 432x288 with 1 Axes>"
      ]
     },
     "metadata": {
      "needs_background": "light"
     },
     "output_type": "display_data"
    }
   ],
   "source": [
    "sns.countplot(x=\"cat_7\", hue=\"target\", data=df)"
   ]
  },
  {
   "cell_type": "code",
   "execution_count": 88,
   "metadata": {},
   "outputs": [
    {
     "data": {
      "text/plain": [
       "<matplotlib.axes._subplots.AxesSubplot at 0x1a668d70b8>"
      ]
     },
     "execution_count": 88,
     "metadata": {},
     "output_type": "execute_result"
    },
    {
     "data": {
      "image/png": "[encoded data removed]",
      "text/plain": [
       "<Figure size 432x288 with 1 Axes>"
      ]
     },
     "metadata": {
      "needs_background": "light"
     },
     "output_type": "display_data"
    }
   ],
   "source": [
    "sns.countplot(x=\"cat_8\", hue=\"target\", data=df)"
   ]
  },
  {
   "cell_type": "code",
   "execution_count": 89,
   "metadata": {},
   "outputs": [
    {
     "data": {
      "text/plain": [
       "<matplotlib.axes._subplots.AxesSubplot at 0x1a69edd0f0>"
      ]
     },
     "execution_count": 89,
     "metadata": {},
     "output_type": "execute_result"
    },
    {
     "data": {
      "image/png": "[encoded data removed]",
      "text/plain": [
       "<Figure size 432x288 with 1 Axes>"
      ]
     },
     "metadata": {
      "needs_background": "light"
     },
     "output_type": "display_data"
    }
   ],
   "source": [
    "sns.countplot(x=\"cat_9\", hue=\"target\", data=df)"
   ]
  },
  {
   "cell_type": "code",
   "execution_count": 90,
   "metadata": {},
   "outputs": [
    {
     "data": {
      "text/plain": [
       "<matplotlib.axes._subplots.AxesSubplot at 0x1a6a5c3c18>"
      ]
     },
     "execution_count": 90,
     "metadata": {},
     "output_type": "execute_result"
    },
    {
     "data": {
      "image/png": "[encoded data removed]",
      "text/plain": [
       "<Figure size 432x288 with 1 Axes>"
      ]
     },
     "metadata": {
      "needs_background": "light"
     },
     "output_type": "display_data"
    }
   ],
   "source": [
    "sns.countplot(x=\"cat_10\", hue=\"target\", data=df)"
   ]
  },
  {
   "cell_type": "markdown",
   "metadata": {},
   "source": [
    "# 3. Baseline"
   ]
  },
  {
   "cell_type": "markdown",
   "metadata": {},
   "source": [
    "Трейн сет – данные с 2011 по 2014 год. Тест сет - 2015 год. В качестве оценки возьмем ROC AUC. Решение принимаем по двум критериям: наличие дисбаланса между классами и приоритет между FN и FP. Если дисбаланс большой, то, скорее всего, стоит смотреть на precision/recall и их гармоническое среднее – F1. У нас не такой большой дисбаланс (60/40). F1 не очень подойдет, так как штрафует модели, где precision и recall не равны. Как я понимаю бизнес-задачу – нам нужно максимально выявлять отмены, даже если придется какие-то нормальные бронирования помечать как \"потенциально отмененные\". То есть, нас больше интересуют False Negatives (предсказало, что отмены не будет, а она была), чем False Positives (предсказало, что отмена будет, а ее не было). В таком случае, нам важно увеличить sensitivity и recall модели, что отражает ROC AUC."
   ]
  },
  {
   "cell_type": "code",
   "execution_count": 168,
   "metadata": {},
   "outputs": [],
   "source": [
    "df['year'] = (df['created_date_time'].dt.year)"
   ]
  },
  {
   "cell_type": "code",
   "execution_count": 248,
   "metadata": {},
   "outputs": [],
   "source": [
    "X_train = df[df['year'] != 2015].drop(columns=['target', 'created_date_time'])"
   ]
  },
  {
   "cell_type": "code",
   "execution_count": 178,
   "metadata": {},
   "outputs": [],
   "source": [
    "X_train = df[df['year'] != 2015].drop(columns=['target', 'created_date_time'])\n",
    "X_test = df[df['year'] == 2015].drop(columns=['target', 'created_date_time'])\n",
    "y_train = df[df['year'] != 2015]['target']\n",
    "y_test = df[df['year'] == 2015]['target']"
   ]
  },
  {
   "cell_type": "code",
   "execution_count": 316,
   "metadata": {},
   "outputs": [],
   "source": [
    "from sklearn.linear_model import LogisticRegression\n",
    "from sklearn.ensemble import RandomForestClassifier\n",
    "from sklearn.svm import LinearSVC\n",
    "import xgboost as xgb\n",
    "\n",
    "from sklearn.model_selection import cross_val_score\n",
    "\n",
    "time_split = TimeSeriesSplit(n_splits=10)\n",
    "\n",
    "models = [\n",
    "    xgb.XGBClassifier(max_depth=3, n_estimators=100, learning_rate=0.01),\n",
    "    RandomForestClassifier(n_estimators=100, max_depth=3, random_state=42),\n",
    "    LinearSVC(),\n",
    "    LogisticRegression(random_state=42)\n",
    "]\n",
    "\n",
    "entries = []\n",
    "for model in models:\n",
    "    model_name = model.__class__.__name__\n",
    "    scores = cross_val_score(model, X_train, y_train, scoring='roc_auc', cv=time_split)\n",
    "    for fold_idx, score in enumerate(scores):\n",
    "        entries.append((model_name, fold_idx, score))\n",
    "cv_df = pd.DataFrame(entries, columns=['model_name', 'fold_idx', 'roc_auc'])"
   ]
  },
  {
   "cell_type": "code",
   "execution_count": 318,
   "metadata": {},
   "outputs": [
    {
     "data": {
      "image/png": "[encoded data removed]",
      "text/plain": [
       "<Figure size 432x288 with 1 Axes>"
      ]
     },
     "metadata": {
      "needs_background": "light"
     },
     "output_type": "display_data"
    }
   ],
   "source": [
    "import seaborn as sns\n",
    "\n",
    "sns.boxplot(x='model_name', y='roc_auc', data=cv_df)\n",
    "sns.stripplot(x='model_name', y='roc_auc', data=cv_df, \n",
    "              size=10, jitter=True, edgecolor=\"gray\", linewidth=2)\n",
    "plt.show()"
   ]
  },
  {
   "cell_type": "code",
   "execution_count": 340,
   "metadata": {},
   "outputs": [],
   "source": [
    "clf = RandomForestClassifier(max_depth=3, n_estimators=100, random_state=42, n_jobs=-1)"
   ]
  },
  {
   "cell_type": "code",
   "execution_count": 342,
   "metadata": {},
   "outputs": [
    {
     "data": {
      "text/plain": [
       "0.9725952010318716"
      ]
     },
     "execution_count": 342,
     "metadata": {},
     "output_type": "execute_result"
    }
   ],
   "source": [
    "cv_scores = cross_val_score(clf, X_train, y_train, cv=time_split, \n",
    "                        scoring='roc_auc', n_jobs=-1)\n",
    "\n",
    "cv_scores.mean()"
   ]
  },
  {
   "cell_type": "code",
   "execution_count": 325,
   "metadata": {},
   "outputs": [
    {
     "name": "stdout",
     "output_type": "stream",
     "text": [
      "Confusion matrix, without normalization\n",
      "[[289040      0]\n",
      " [ 79252 141648]]\n"
     ]
    },
    {
     "data": {
      "image/png": "[encoded data removed]",
      "text/plain": [
       "<Figure size 720x576 with 2 Axes>"
      ]
     },
     "metadata": {
      "needs_background": "light"
     },
     "output_type": "display_data"
    }
   ],
   "source": [
    "import itertools\n",
    "from sklearn.metrics import confusion_matrix\n",
    "\n",
    "def plot_confusion_matrix(cm, classes,\n",
    "                          normalize=False,\n",
    "                          title='Confusion matrix',\n",
    "                          cmap=plt.cm.Blues):\n",
    "    \"\"\"\n",
    "    This function prints and plots the confusion matrix.\n",
    "    Normalization can be applied by setting `normalize=True`.\n",
    "    \"\"\"\n",
    "    plt.imshow(cm, interpolation='nearest', cmap=cmap)\n",
    "    plt.title(title)\n",
    "    plt.colorbar()\n",
    "    tick_marks = np.arange(len(classes))\n",
    "    plt.xticks(tick_marks, classes, rotation=45)\n",
    "    plt.yticks(tick_marks, classes)\n",
    "\n",
    "    if normalize:\n",
    "        cm = cm.astype('float') / cm.sum(axis=1)[:, np.newaxis]\n",
    "        print(\"Normalized confusion matrix\")\n",
    "    else:\n",
    "        print('Confusion matrix, without normalization')\n",
    "\n",
    "    print(cm)\n",
    "\n",
    "    thresh = cm.max() / 2.\n",
    "    for i, j in itertools.product(range(cm.shape[0]), range(cm.shape[1])):\n",
    "        plt.text(j, i, cm[i, j],\n",
    "                 horizontalalignment=\"center\",\n",
    "                 color=\"white\" if cm[i, j] > thresh else \"black\")\n",
    "\n",
    "    plt.tight_layout()\n",
    "    plt.ylabel('True label')\n",
    "    plt.xlabel('Predicted label')\n",
    "\n",
    "font = {'size' : 15}\n",
    "\n",
    "plt.rc('font', **font)\n",
    "\n",
    "cnf_matrix = confusion_matrix(y_test, clf.predict(X_test))\n",
    "plt.figure(figsize=(10, 8))\n",
    "plot_confusion_matrix(cnf_matrix, classes=['Не отмененное бронирование', 'Отмена бронирования'],\n",
    "                      title='Матрица ошибок')\n",
    "plt.savefig(\"conf_matrix.png\")\n",
    "plt.show()"
   ]
  },
  {
   "cell_type": "code",
   "execution_count": 330,
   "metadata": {},
   "outputs": [
    {
     "data": {
      "image/png": "[encoded data removed]",
      "text/plain": [
       "<Figure size 576x432 with 1 Axes>"
      ]
     },
     "metadata": {},
     "output_type": "display_data"
    }
   ],
   "source": [
    "from sklearn.metrics import roc_curve\n",
    "\n",
    "sns.set(font_scale=1.5)\n",
    "sns.set_color_codes(\"muted\")\n",
    "\n",
    "plt.figure(figsize=(8, 6))\n",
    "fpr, tpr, thresholds = roc_curve(y_test, clf.predict_proba(X_test)[:,1], pos_label=1)\n",
    "lw = 2\n",
    "plt.plot(fpr, tpr, lw=lw, label='ROC curve ')\n",
    "plt.plot([0, 1], [0, 1])\n",
    "plt.xlim([0.0, 1.0])\n",
    "plt.ylim([0.0, 1.05])\n",
    "plt.xlabel('False Positive Rate')\n",
    "plt.ylabel('True Positive Rate')\n",
    "plt.title('ROC curve')\n",
    "plt.savefig(\"ROC.png\")\n",
    "plt.show()"
   ]
  },
  {
   "cell_type": "markdown",
   "metadata": {},
   "source": [
    "# 3. Feature Selection"
   ]
  },
  {
   "cell_type": "markdown",
   "metadata": {},
   "source": [
    "Фичи можно отбирать разными способами: проверять корреляции с таргетом, посмотреть на статистически значимые переменные, избавиться от коррелирующих между собой фичей, forward/backward/mixed selection (например, SequentialFeatureSelector), использовать встроенный отбор в RandomForest или других моделях. Некоторые здесь использованы, SequentialFeatureSelector занял слишком много времени. "
   ]
  },
  {
   "cell_type": "markdown",
   "metadata": {},
   "source": [
    "### P-values"
   ]
  },
  {
   "cell_type": "code",
   "execution_count": 197,
   "metadata": {},
   "outputs": [],
   "source": [
    "import statsmodels.api as sm \n",
    "import statsmodels.formula.api as smf"
   ]
  },
  {
   "cell_type": "code",
   "execution_count": 208,
   "metadata": {},
   "outputs": [
    {
     "data": {
      "text/html": [
       "<table class=\"simpletable\">\n",
       "<caption>Generalized Linear Model Regression Results</caption>\n",
       "<tr>\n",
       "  <th>Dep. Variable:</th>       <td>target</td>      <th>  No. Observations:  </th>   <td>948349</td>   \n",
       "</tr>\n",
       "<tr>\n",
       "  <th>Model:</th>                 <td>GLM</td>       <th>  Df Residuals:      </th>   <td>948285</td>   \n",
       "</tr>\n",
       "<tr>\n",
       "  <th>Model Family:</th>       <td>Binomial</td>     <th>  Df Model:          </th>   <td>    63</td>   \n",
       "</tr>\n",
       "<tr>\n",
       "  <th>Link Function:</th>        <td>logit</td>      <th>  Scale:             </th>  <td>  1.0000</td>  \n",
       "</tr>\n",
       "<tr>\n",
       "  <th>Method:</th>               <td>IRLS</td>       <th>  Log-Likelihood:    </th> <td>-5.5730e+05</td>\n",
       "</tr>\n",
       "<tr>\n",
       "  <th>Date:</th>           <td>Thu, 08 Aug 2019</td> <th>  Deviance:          </th> <td>1.1146e+06</td> \n",
       "</tr>\n",
       "<tr>\n",
       "  <th>Time:</th>               <td>20:23:58</td>     <th>  Pearson chi2:      </th>  <td>9.47e+05</td>  \n",
       "</tr>\n",
       "<tr>\n",
       "  <th>No. Iterations:</th>         <td>5</td>        <th>  Covariance Type:   </th>  <td>nonrobust</td> \n",
       "</tr>\n",
       "</table>\n",
       "<table class=\"simpletable\">\n",
       "<tr>\n",
       "       <td></td>          <th>coef</th>     <th>std err</th>      <th>z</th>      <th>P>|z|</th>  <th>[0.025</th>    <th>0.975]</th>  \n",
       "</tr>\n",
       "<tr>\n",
       "  <th>Intercept</th>   <td> -249.0227</td> <td>    9.966</td> <td>  -24.988</td> <td> 0.000</td> <td> -268.555</td> <td> -229.490</td>\n",
       "</tr>\n",
       "<tr>\n",
       "  <th>cat_0</th>       <td>    0.1540</td> <td>    0.003</td> <td>   44.205</td> <td> 0.000</td> <td>    0.147</td> <td>    0.161</td>\n",
       "</tr>\n",
       "<tr>\n",
       "  <th>cat_1</th>       <td>   -0.6830</td> <td>    0.003</td> <td> -228.728</td> <td> 0.000</td> <td>   -0.689</td> <td>   -0.677</td>\n",
       "</tr>\n",
       "<tr>\n",
       "  <th>cat_2</th>       <td>    0.0155</td> <td>    0.003</td> <td>    5.902</td> <td> 0.000</td> <td>    0.010</td> <td>    0.021</td>\n",
       "</tr>\n",
       "<tr>\n",
       "  <th>cat_3</th>       <td>    0.0504</td> <td>    0.011</td> <td>    4.482</td> <td> 0.000</td> <td>    0.028</td> <td>    0.073</td>\n",
       "</tr>\n",
       "<tr>\n",
       "  <th>cat_4</th>       <td> 2.125e-05</td> <td>  1.4e-06</td> <td>   15.225</td> <td> 0.000</td> <td> 1.85e-05</td> <td>  2.4e-05</td>\n",
       "</tr>\n",
       "<tr>\n",
       "  <th>cat_5</th>       <td>   -0.0015</td> <td> 9.64e-05</td> <td>  -15.835</td> <td> 0.000</td> <td>   -0.002</td> <td>   -0.001</td>\n",
       "</tr>\n",
       "<tr>\n",
       "  <th>cat_6</th>       <td>    0.2782</td> <td>    0.019</td> <td>   14.432</td> <td> 0.000</td> <td>    0.240</td> <td>    0.316</td>\n",
       "</tr>\n",
       "<tr>\n",
       "  <th>cat_7</th>       <td>   -0.2444</td> <td>    0.017</td> <td>  -14.755</td> <td> 0.000</td> <td>   -0.277</td> <td>   -0.212</td>\n",
       "</tr>\n",
       "<tr>\n",
       "  <th>cat_8</th>       <td>    0.0065</td> <td>    0.003</td> <td>    2.173</td> <td> 0.030</td> <td>    0.001</td> <td>    0.012</td>\n",
       "</tr>\n",
       "<tr>\n",
       "  <th>cat_9</th>       <td>    0.0728</td> <td>    0.007</td> <td>    9.988</td> <td> 0.000</td> <td>    0.059</td> <td>    0.087</td>\n",
       "</tr>\n",
       "<tr>\n",
       "  <th>cat_10</th>      <td>    0.0045</td> <td>    0.001</td> <td>    3.096</td> <td> 0.002</td> <td>    0.002</td> <td>    0.007</td>\n",
       "</tr>\n",
       "<tr>\n",
       "  <th>num_0</th>       <td>   -0.0069</td> <td>    0.006</td> <td>   -1.186</td> <td> 0.235</td> <td>   -0.018</td> <td>    0.005</td>\n",
       "</tr>\n",
       "<tr>\n",
       "  <th>num_1</th>       <td>    0.0326</td> <td>    0.003</td> <td>   11.385</td> <td> 0.000</td> <td>    0.027</td> <td>    0.038</td>\n",
       "</tr>\n",
       "<tr>\n",
       "  <th>num_2</th>       <td>    0.4369</td> <td>    0.008</td> <td>   52.294</td> <td> 0.000</td> <td>    0.421</td> <td>    0.453</td>\n",
       "</tr>\n",
       "<tr>\n",
       "  <th>num_3</th>       <td>    0.0327</td> <td>    0.004</td> <td>    8.878</td> <td> 0.000</td> <td>    0.025</td> <td>    0.040</td>\n",
       "</tr>\n",
       "<tr>\n",
       "  <th>num_4</th>       <td>    0.2750</td> <td>    0.020</td> <td>   13.554</td> <td> 0.000</td> <td>    0.235</td> <td>    0.315</td>\n",
       "</tr>\n",
       "<tr>\n",
       "  <th>num_5</th>       <td>   -0.1148</td> <td>    0.009</td> <td>  -12.141</td> <td> 0.000</td> <td>   -0.133</td> <td>   -0.096</td>\n",
       "</tr>\n",
       "<tr>\n",
       "  <th>num_6</th>       <td>    0.2263</td> <td>    0.008</td> <td>   29.977</td> <td> 0.000</td> <td>    0.212</td> <td>    0.241</td>\n",
       "</tr>\n",
       "<tr>\n",
       "  <th>num_7</th>       <td>    0.0647</td> <td>    0.018</td> <td>    3.633</td> <td> 0.000</td> <td>    0.030</td> <td>    0.100</td>\n",
       "</tr>\n",
       "<tr>\n",
       "  <th>num_8</th>       <td>    0.2448</td> <td>    0.019</td> <td>   13.145</td> <td> 0.000</td> <td>    0.208</td> <td>    0.281</td>\n",
       "</tr>\n",
       "<tr>\n",
       "  <th>num_9</th>       <td>   -0.1216</td> <td>    0.017</td> <td>   -7.123</td> <td> 0.000</td> <td>   -0.155</td> <td>   -0.088</td>\n",
       "</tr>\n",
       "<tr>\n",
       "  <th>num_10</th>      <td>    0.3115</td> <td>    0.070</td> <td>    4.470</td> <td> 0.000</td> <td>    0.175</td> <td>    0.448</td>\n",
       "</tr>\n",
       "<tr>\n",
       "  <th>num_11</th>      <td>   -0.0301</td> <td>    0.038</td> <td>   -0.788</td> <td> 0.431</td> <td>   -0.105</td> <td>    0.045</td>\n",
       "</tr>\n",
       "<tr>\n",
       "  <th>num_12</th>      <td>   -0.0724</td> <td>    0.093</td> <td>   -0.782</td> <td> 0.434</td> <td>   -0.254</td> <td>    0.109</td>\n",
       "</tr>\n",
       "<tr>\n",
       "  <th>num_13</th>      <td>   -0.3041</td> <td>    0.048</td> <td>   -6.275</td> <td> 0.000</td> <td>   -0.399</td> <td>   -0.209</td>\n",
       "</tr>\n",
       "<tr>\n",
       "  <th>num_14</th>      <td>   -0.2379</td> <td>    0.039</td> <td>   -6.114</td> <td> 0.000</td> <td>   -0.314</td> <td>   -0.162</td>\n",
       "</tr>\n",
       "<tr>\n",
       "  <th>num_15</th>      <td>   -0.0257</td> <td>    0.024</td> <td>   -1.084</td> <td> 0.278</td> <td>   -0.072</td> <td>    0.021</td>\n",
       "</tr>\n",
       "<tr>\n",
       "  <th>num_16</th>      <td>    0.0586</td> <td>    0.018</td> <td>    3.334</td> <td> 0.001</td> <td>    0.024</td> <td>    0.093</td>\n",
       "</tr>\n",
       "<tr>\n",
       "  <th>num_17</th>      <td>   -0.0369</td> <td>    0.018</td> <td>   -2.015</td> <td> 0.044</td> <td>   -0.073</td> <td>   -0.001</td>\n",
       "</tr>\n",
       "<tr>\n",
       "  <th>num_18</th>      <td>    0.1955</td> <td>    0.022</td> <td>    8.990</td> <td> 0.000</td> <td>    0.153</td> <td>    0.238</td>\n",
       "</tr>\n",
       "<tr>\n",
       "  <th>num_19</th>      <td>   -0.4097</td> <td>    0.071</td> <td>   -5.791</td> <td> 0.000</td> <td>   -0.548</td> <td>   -0.271</td>\n",
       "</tr>\n",
       "<tr>\n",
       "  <th>num_20</th>      <td>   -0.1932</td> <td>    0.019</td> <td>  -10.254</td> <td> 0.000</td> <td>   -0.230</td> <td>   -0.156</td>\n",
       "</tr>\n",
       "<tr>\n",
       "  <th>num_21</th>      <td>   -0.0372</td> <td>    0.038</td> <td>   -0.990</td> <td> 0.322</td> <td>   -0.111</td> <td>    0.036</td>\n",
       "</tr>\n",
       "<tr>\n",
       "  <th>num_22</th>      <td>    0.2003</td> <td>    0.092</td> <td>    2.170</td> <td> 0.030</td> <td>    0.019</td> <td>    0.381</td>\n",
       "</tr>\n",
       "<tr>\n",
       "  <th>num_23</th>      <td>    0.2402</td> <td>    0.048</td> <td>    5.026</td> <td> 0.000</td> <td>    0.147</td> <td>    0.334</td>\n",
       "</tr>\n",
       "<tr>\n",
       "  <th>num_24</th>      <td>    0.0624</td> <td>    0.038</td> <td>    1.625</td> <td> 0.104</td> <td>   -0.013</td> <td>    0.138</td>\n",
       "</tr>\n",
       "<tr>\n",
       "  <th>num_25</th>      <td>    0.0405</td> <td>    0.024</td> <td>    1.717</td> <td> 0.086</td> <td>   -0.006</td> <td>    0.087</td>\n",
       "</tr>\n",
       "<tr>\n",
       "  <th>num_26</th>      <td>    0.1099</td> <td>    0.008</td> <td>   13.505</td> <td> 0.000</td> <td>    0.094</td> <td>    0.126</td>\n",
       "</tr>\n",
       "<tr>\n",
       "  <th>num_27</th>      <td>    0.6399</td> <td>    0.016</td> <td>   38.877</td> <td> 0.000</td> <td>    0.608</td> <td>    0.672</td>\n",
       "</tr>\n",
       "<tr>\n",
       "  <th>num_28</th>      <td>   -0.0815</td> <td>    0.024</td> <td>   -3.353</td> <td> 0.001</td> <td>   -0.129</td> <td>   -0.034</td>\n",
       "</tr>\n",
       "<tr>\n",
       "  <th>num_29</th>      <td>    0.1203</td> <td>    0.007</td> <td>   17.268</td> <td> 0.000</td> <td>    0.107</td> <td>    0.134</td>\n",
       "</tr>\n",
       "<tr>\n",
       "  <th>num_30</th>      <td>   -0.4500</td> <td>    0.024</td> <td>  -18.537</td> <td> 0.000</td> <td>   -0.498</td> <td>   -0.402</td>\n",
       "</tr>\n",
       "<tr>\n",
       "  <th>num_31</th>      <td>   -0.1244</td> <td>    0.009</td> <td>  -14.228</td> <td> 0.000</td> <td>   -0.142</td> <td>   -0.107</td>\n",
       "</tr>\n",
       "<tr>\n",
       "  <th>num_32</th>      <td>   -0.0963</td> <td>    0.012</td> <td>   -8.161</td> <td> 0.000</td> <td>   -0.119</td> <td>   -0.073</td>\n",
       "</tr>\n",
       "<tr>\n",
       "  <th>num_33</th>      <td>   -0.0752</td> <td>    0.008</td> <td>   -9.367</td> <td> 0.000</td> <td>   -0.091</td> <td>   -0.059</td>\n",
       "</tr>\n",
       "<tr>\n",
       "  <th>num_34</th>      <td>   -0.0239</td> <td>    0.005</td> <td>   -4.981</td> <td> 0.000</td> <td>   -0.033</td> <td>   -0.014</td>\n",
       "</tr>\n",
       "<tr>\n",
       "  <th>num_35</th>      <td>   -0.1626</td> <td>    0.017</td> <td>   -9.469</td> <td> 0.000</td> <td>   -0.196</td> <td>   -0.129</td>\n",
       "</tr>\n",
       "<tr>\n",
       "  <th>num_36</th>      <td>    0.3319</td> <td>    0.009</td> <td>   38.686</td> <td> 0.000</td> <td>    0.315</td> <td>    0.349</td>\n",
       "</tr>\n",
       "<tr>\n",
       "  <th>num_1_anom</th>  <td>    0.2689</td> <td>    0.017</td> <td>   15.956</td> <td> 0.000</td> <td>    0.236</td> <td>    0.302</td>\n",
       "</tr>\n",
       "<tr>\n",
       "  <th>num_2_anom</th>  <td>    1.1123</td> <td>    0.032</td> <td>   34.635</td> <td> 0.000</td> <td>    1.049</td> <td>    1.175</td>\n",
       "</tr>\n",
       "<tr>\n",
       "  <th>num_3_anom</th>  <td>    0.1957</td> <td>    0.016</td> <td>   12.214</td> <td> 0.000</td> <td>    0.164</td> <td>    0.227</td>\n",
       "</tr>\n",
       "<tr>\n",
       "  <th>num_4_anom</th>  <td>    0.8085</td> <td>    0.065</td> <td>   12.516</td> <td> 0.000</td> <td>    0.682</td> <td>    0.935</td>\n",
       "</tr>\n",
       "<tr>\n",
       "  <th>num_6_anom</th>  <td>    0.8367</td> <td>    0.032</td> <td>   26.160</td> <td> 0.000</td> <td>    0.774</td> <td>    0.899</td>\n",
       "</tr>\n",
       "<tr>\n",
       "  <th>num_10_anom</th> <td>    0.7515</td> <td>    0.229</td> <td>    3.289</td> <td> 0.001</td> <td>    0.304</td> <td>    1.199</td>\n",
       "</tr>\n",
       "<tr>\n",
       "  <th>num_12_anom</th> <td>   -0.3730</td> <td>    0.238</td> <td>   -1.567</td> <td> 0.117</td> <td>   -0.840</td> <td>    0.094</td>\n",
       "</tr>\n",
       "<tr>\n",
       "  <th>num_19_anom</th> <td>   -0.9340</td> <td>    0.232</td> <td>   -4.033</td> <td> 0.000</td> <td>   -1.388</td> <td>   -0.480</td>\n",
       "</tr>\n",
       "<tr>\n",
       "  <th>num_22_anom</th> <td>    0.4369</td> <td>    0.237</td> <td>    1.841</td> <td> 0.066</td> <td>   -0.028</td> <td>    0.902</td>\n",
       "</tr>\n",
       "<tr>\n",
       "  <th>num_26_anom</th> <td>    0.1435</td> <td>    0.033</td> <td>    4.381</td> <td> 0.000</td> <td>    0.079</td> <td>    0.208</td>\n",
       "</tr>\n",
       "<tr>\n",
       "  <th>num_29_anom</th> <td>    0.2171</td> <td>    0.029</td> <td>    7.555</td> <td> 0.000</td> <td>    0.161</td> <td>    0.273</td>\n",
       "</tr>\n",
       "<tr>\n",
       "  <th>num_32_anom</th> <td>   -0.0497</td> <td>    0.027</td> <td>   -1.821</td> <td> 0.069</td> <td>   -0.103</td> <td>    0.004</td>\n",
       "</tr>\n",
       "<tr>\n",
       "  <th>num_35_anom</th> <td>   -0.3727</td> <td>    0.060</td> <td>   -6.221</td> <td> 0.000</td> <td>   -0.490</td> <td>   -0.255</td>\n",
       "</tr>\n",
       "<tr>\n",
       "  <th>num_36_anom</th> <td>    0.5856</td> <td>    0.029</td> <td>   20.233</td> <td> 0.000</td> <td>    0.529</td> <td>    0.642</td>\n",
       "</tr>\n",
       "<tr>\n",
       "  <th>year</th>        <td>    0.1234</td> <td>    0.005</td> <td>   24.946</td> <td> 0.000</td> <td>    0.114</td> <td>    0.133</td>\n",
       "</tr>\n",
       "</table>"
      ],
      "text/plain": [
       "<class 'statsmodels.iolib.summary.Summary'>\n",
       "\"\"\"\n",
       "                 Generalized Linear Model Regression Results                  \n",
       "==============================================================================\n",
       "Dep. Variable:                 target   No. Observations:               948349\n",
       "Model:                            GLM   Df Residuals:                   948285\n",
       "Model Family:                Binomial   Df Model:                           63\n",
       "Link Function:                  logit   Scale:                          1.0000\n",
       "Method:                          IRLS   Log-Likelihood:            -5.5730e+05\n",
       "Date:                Thu, 08 Aug 2019   Deviance:                   1.1146e+06\n",
       "Time:                        20:23:58   Pearson chi2:                 9.47e+05\n",
       "No. Iterations:                     5   Covariance Type:             nonrobust\n",
       "===============================================================================\n",
       "                  coef    std err          z      P>|z|      [0.025      0.975]\n",
       "-------------------------------------------------------------------------------\n",
       "Intercept    -249.0227      9.966    -24.988      0.000    -268.555    -229.490\n",
       "cat_0           0.1540      0.003     44.205      0.000       0.147       0.161\n",
       "cat_1          -0.6830      0.003   -228.728      0.000      -0.689      -0.677\n",
       "cat_2           0.0155      0.003      5.902      0.000       0.010       0.021\n",
       "cat_3           0.0504      0.011      4.482      0.000       0.028       0.073\n",
       "cat_4        2.125e-05    1.4e-06     15.225      0.000    1.85e-05     2.4e-05\n",
       "cat_5          -0.0015   9.64e-05    -15.835      0.000      -0.002      -0.001\n",
       "cat_6           0.2782      0.019     14.432      0.000       0.240       0.316\n",
       "cat_7          -0.2444      0.017    -14.755      0.000      -0.277      -0.212\n",
       "cat_8           0.0065      0.003      2.173      0.030       0.001       0.012\n",
       "cat_9           0.0728      0.007      9.988      0.000       0.059       0.087\n",
       "cat_10          0.0045      0.001      3.096      0.002       0.002       0.007\n",
       "num_0          -0.0069      0.006     -1.186      0.235      -0.018       0.005\n",
       "num_1           0.0326      0.003     11.385      0.000       0.027       0.038\n",
       "num_2           0.4369      0.008     52.294      0.000       0.421       0.453\n",
       "num_3           0.0327      0.004      8.878      0.000       0.025       0.040\n",
       "num_4           0.2750      0.020     13.554      0.000       0.235       0.315\n",
       "num_5          -0.1148      0.009    -12.141      0.000      -0.133      -0.096\n",
       "num_6           0.2263      0.008     29.977      0.000       0.212       0.241\n",
       "num_7           0.0647      0.018      3.633      0.000       0.030       0.100\n",
       "num_8           0.2448      0.019     13.145      0.000       0.208       0.281\n",
       "num_9          -0.1216      0.017     -7.123      0.000      -0.155      -0.088\n",
       "num_10          0.3115      0.070      4.470      0.000       0.175       0.448\n",
       "num_11         -0.0301      0.038     -0.788      0.431      -0.105       0.045\n",
       "num_12         -0.0724      0.093     -0.782      0.434      -0.254       0.109\n",
       "num_13         -0.3041      0.048     -6.275      0.000      -0.399      -0.209\n",
       "num_14         -0.2379      0.039     -6.114      0.000      -0.314      -0.162\n",
       "num_15         -0.0257      0.024     -1.084      0.278      -0.072       0.021\n",
       "num_16          0.0586      0.018      3.334      0.001       0.024       0.093\n",
       "num_17         -0.0369      0.018     -2.015      0.044      -0.073      -0.001\n",
       "num_18          0.1955      0.022      8.990      0.000       0.153       0.238\n",
       "num_19         -0.4097      0.071     -5.791      0.000      -0.548      -0.271\n",
       "num_20         -0.1932      0.019    -10.254      0.000      -0.230      -0.156\n",
       "num_21         -0.0372      0.038     -0.990      0.322      -0.111       0.036\n",
       "num_22          0.2003      0.092      2.170      0.030       0.019       0.381\n",
       "num_23          0.2402      0.048      5.026      0.000       0.147       0.334\n",
       "num_24          0.0624      0.038      1.625      0.104      -0.013       0.138\n",
       "num_25          0.0405      0.024      1.717      0.086      -0.006       0.087\n",
       "num_26          0.1099      0.008     13.505      0.000       0.094       0.126\n",
       "num_27          0.6399      0.016     38.877      0.000       0.608       0.672\n",
       "num_28         -0.0815      0.024     -3.353      0.001      -0.129      -0.034\n",
       "num_29          0.1203      0.007     17.268      0.000       0.107       0.134\n",
       "num_30         -0.4500      0.024    -18.537      0.000      -0.498      -0.402\n",
       "num_31         -0.1244      0.009    -14.228      0.000      -0.142      -0.107\n",
       "num_32         -0.0963      0.012     -8.161      0.000      -0.119      -0.073\n",
       "num_33         -0.0752      0.008     -9.367      0.000      -0.091      -0.059\n",
       "num_34         -0.0239      0.005     -4.981      0.000      -0.033      -0.014\n",
       "num_35         -0.1626      0.017     -9.469      0.000      -0.196      -0.129\n",
       "num_36          0.3319      0.009     38.686      0.000       0.315       0.349\n",
       "num_1_anom      0.2689      0.017     15.956      0.000       0.236       0.302\n",
       "num_2_anom      1.1123      0.032     34.635      0.000       1.049       1.175\n",
       "num_3_anom      0.1957      0.016     12.214      0.000       0.164       0.227\n",
       "num_4_anom      0.8085      0.065     12.516      0.000       0.682       0.935\n",
       "num_6_anom      0.8367      0.032     26.160      0.000       0.774       0.899\n",
       "num_10_anom     0.7515      0.229      3.289      0.001       0.304       1.199\n",
       "num_12_anom    -0.3730      0.238     -1.567      0.117      -0.840       0.094\n",
       "num_19_anom    -0.9340      0.232     -4.033      0.000      -1.388      -0.480\n",
       "num_22_anom     0.4369      0.237      1.841      0.066      -0.028       0.902\n",
       "num_26_anom     0.1435      0.033      4.381      0.000       0.079       0.208\n",
       "num_29_anom     0.2171      0.029      7.555      0.000       0.161       0.273\n",
       "num_32_anom    -0.0497      0.027     -1.821      0.069      -0.103       0.004\n",
       "num_35_anom    -0.3727      0.060     -6.221      0.000      -0.490      -0.255\n",
       "num_36_anom     0.5856      0.029     20.233      0.000       0.529       0.642\n",
       "year            0.1234      0.005     24.946      0.000       0.114       0.133\n",
       "===============================================================================\n",
       "\"\"\""
      ]
     },
     "execution_count": 208,
     "metadata": {},
     "output_type": "execute_result"
    }
   ],
   "source": [
    "model = smf.glm(formula = \"target ~ \" + \" + \".join(X_train.columns),\n",
    "               family=sm.families.Binomial(link = sm.genmod.families.links.logit),\n",
    "               data=df\n",
    "               ).fit()\n",
    "\n",
    "model.summary()"
   ]
  },
  {
   "cell_type": "markdown",
   "metadata": {},
   "source": [
    "Отфильтруем переменные с высокими p-значениями."
   ]
  },
  {
   "cell_type": "code",
   "execution_count": 230,
   "metadata": {},
   "outputs": [
    {
     "data": {
      "text/plain": [
       "Index(['Intercept', 'cat_0', 'cat_1', 'cat_2', 'cat_3', 'cat_4', 'cat_5',\n",
       "       'cat_6', 'cat_7', 'cat_9', 'cat_10', 'num_1', 'num_2', 'num_3', 'num_4',\n",
       "       'num_5', 'num_6', 'num_7', 'num_8', 'num_9', 'num_10', 'num_13',\n",
       "       'num_14', 'num_16', 'num_18', 'num_19', 'num_20', 'num_23', 'num_26',\n",
       "       'num_27', 'num_28', 'num_29', 'num_30', 'num_31', 'num_32', 'num_33',\n",
       "       'num_34', 'num_35', 'num_36', 'num_1_anom', 'num_2_anom', 'num_3_anom',\n",
       "       'num_4_anom', 'num_6_anom', 'num_10_anom', 'num_19_anom', 'num_26_anom',\n",
       "       'num_29_anom', 'num_35_anom', 'num_36_anom', 'year'],\n",
       "      dtype='object')"
      ]
     },
     "execution_count": 230,
     "metadata": {},
     "output_type": "execute_result"
    }
   ],
   "source": [
    "significant_features = model.pvalues[(model.pvalues < 0.01)].index\n",
    "significant_features"
   ]
  },
  {
   "cell_type": "code",
   "execution_count": 331,
   "metadata": {},
   "outputs": [],
   "source": [
    "X_train_significant = X_train[list(significant_features[1:])]\n",
    "X_test_significant = X_test[list(significant_features[1:])]"
   ]
  },
  {
   "cell_type": "code",
   "execution_count": 343,
   "metadata": {},
   "outputs": [
    {
     "data": {
      "text/plain": [
       "0.9741123355080259"
      ]
     },
     "execution_count": 343,
     "metadata": {},
     "output_type": "execute_result"
    }
   ],
   "source": [
    "cv_scores_significant = cross_val_score(clf, X_train_significant, y_train, cv=time_split, \n",
    "                        scoring='roc_auc', n_jobs=-1)\n",
    "\n",
    "cv_scores_significant.mean()"
   ]
  },
  {
   "cell_type": "markdown",
   "metadata": {},
   "source": [
    "Этот отбор немного повысил скор."
   ]
  },
  {
   "cell_type": "markdown",
   "metadata": {},
   "source": [
    "### Мультиколлинеарность"
   ]
  },
  {
   "cell_type": "markdown",
   "metadata": {},
   "source": [
    "Попробуем отфильтровать сильно коррелирующие (> 0.9) между собой переменные."
   ]
  },
  {
   "cell_type": "code",
   "execution_count": 266,
   "metadata": {},
   "outputs": [
    {
     "data": {
      "text/html": [
       "<div>\n",
       "<style scoped>\n",
       "    .dataframe tbody tr th:only-of-type {\n",
       "        vertical-align: middle;\n",
       "    }\n",
       "\n",
       "    .dataframe tbody tr th {\n",
       "        vertical-align: top;\n",
       "    }\n",
       "\n",
       "    .dataframe thead th {\n",
       "        text-align: right;\n",
       "    }\n",
       "</style>\n",
       "<table border=\"1\" class=\"dataframe\">\n",
       "  <thead>\n",
       "    <tr style=\"text-align: right;\">\n",
       "      <th></th>\n",
       "      <th>target</th>\n",
       "      <th>cat_0</th>\n",
       "      <th>cat_1</th>\n",
       "      <th>cat_2</th>\n",
       "      <th>cat_3</th>\n",
       "      <th>cat_4</th>\n",
       "      <th>cat_5</th>\n",
       "      <th>cat_6</th>\n",
       "      <th>cat_7</th>\n",
       "      <th>cat_8</th>\n",
       "      <th>...</th>\n",
       "      <th>num_10_anom</th>\n",
       "      <th>num_12_anom</th>\n",
       "      <th>num_19_anom</th>\n",
       "      <th>num_22_anom</th>\n",
       "      <th>num_26_anom</th>\n",
       "      <th>num_29_anom</th>\n",
       "      <th>num_32_anom</th>\n",
       "      <th>num_35_anom</th>\n",
       "      <th>num_36_anom</th>\n",
       "      <th>year</th>\n",
       "    </tr>\n",
       "  </thead>\n",
       "  <tbody>\n",
       "    <tr>\n",
       "      <th>target</th>\n",
       "      <td>1.000000</td>\n",
       "      <td>0.048824</td>\n",
       "      <td>0.238997</td>\n",
       "      <td>0.008274</td>\n",
       "      <td>0.048274</td>\n",
       "      <td>0.060052</td>\n",
       "      <td>0.031003</td>\n",
       "      <td>0.021147</td>\n",
       "      <td>0.013447</td>\n",
       "      <td>0.034173</td>\n",
       "      <td>...</td>\n",
       "      <td>0.029631</td>\n",
       "      <td>0.023509</td>\n",
       "      <td>0.029268</td>\n",
       "      <td>0.023686</td>\n",
       "      <td>0.086447</td>\n",
       "      <td>0.103567</td>\n",
       "      <td>0.042061</td>\n",
       "      <td>0.057613</td>\n",
       "      <td>0.074328</td>\n",
       "      <td>0.083462</td>\n",
       "    </tr>\n",
       "    <tr>\n",
       "      <th>cat_0</th>\n",
       "      <td>0.048824</td>\n",
       "      <td>1.000000</td>\n",
       "      <td>0.358838</td>\n",
       "      <td>0.099305</td>\n",
       "      <td>0.071269</td>\n",
       "      <td>0.088407</td>\n",
       "      <td>0.427284</td>\n",
       "      <td>0.179368</td>\n",
       "      <td>0.166426</td>\n",
       "      <td>0.089875</td>\n",
       "      <td>...</td>\n",
       "      <td>0.080200</td>\n",
       "      <td>0.045120</td>\n",
       "      <td>0.081362</td>\n",
       "      <td>0.045829</td>\n",
       "      <td>0.096054</td>\n",
       "      <td>0.103786</td>\n",
       "      <td>0.124922</td>\n",
       "      <td>0.112965</td>\n",
       "      <td>0.151434</td>\n",
       "      <td>0.022741</td>\n",
       "    </tr>\n",
       "    <tr>\n",
       "      <th>cat_1</th>\n",
       "      <td>0.238997</td>\n",
       "      <td>0.358838</td>\n",
       "      <td>1.000000</td>\n",
       "      <td>0.061860</td>\n",
       "      <td>0.082019</td>\n",
       "      <td>0.018568</td>\n",
       "      <td>0.205001</td>\n",
       "      <td>0.111953</td>\n",
       "      <td>0.102165</td>\n",
       "      <td>0.088821</td>\n",
       "      <td>...</td>\n",
       "      <td>0.011633</td>\n",
       "      <td>0.012809</td>\n",
       "      <td>0.011927</td>\n",
       "      <td>0.012657</td>\n",
       "      <td>0.046435</td>\n",
       "      <td>0.021449</td>\n",
       "      <td>0.032117</td>\n",
       "      <td>0.020444</td>\n",
       "      <td>0.008580</td>\n",
       "      <td>0.068505</td>\n",
       "    </tr>\n",
       "    <tr>\n",
       "      <th>cat_2</th>\n",
       "      <td>0.008274</td>\n",
       "      <td>0.099305</td>\n",
       "      <td>0.061860</td>\n",
       "      <td>1.000000</td>\n",
       "      <td>0.433979</td>\n",
       "      <td>0.001293</td>\n",
       "      <td>0.039309</td>\n",
       "      <td>0.137063</td>\n",
       "      <td>0.151774</td>\n",
       "      <td>0.321977</td>\n",
       "      <td>...</td>\n",
       "      <td>0.023673</td>\n",
       "      <td>0.203292</td>\n",
       "      <td>0.020588</td>\n",
       "      <td>0.202966</td>\n",
       "      <td>0.032184</td>\n",
       "      <td>0.002159</td>\n",
       "      <td>0.007464</td>\n",
       "      <td>0.002132</td>\n",
       "      <td>0.008215</td>\n",
       "      <td>0.131733</td>\n",
       "    </tr>\n",
       "    <tr>\n",
       "      <th>cat_3</th>\n",
       "      <td>0.048274</td>\n",
       "      <td>0.071269</td>\n",
       "      <td>0.082019</td>\n",
       "      <td>0.433979</td>\n",
       "      <td>1.000000</td>\n",
       "      <td>0.010727</td>\n",
       "      <td>0.039980</td>\n",
       "      <td>0.301629</td>\n",
       "      <td>0.395338</td>\n",
       "      <td>0.381195</td>\n",
       "      <td>...</td>\n",
       "      <td>0.030502</td>\n",
       "      <td>0.329917</td>\n",
       "      <td>0.031509</td>\n",
       "      <td>0.327605</td>\n",
       "      <td>0.000162</td>\n",
       "      <td>0.028898</td>\n",
       "      <td>0.018121</td>\n",
       "      <td>0.015070</td>\n",
       "      <td>0.009042</td>\n",
       "      <td>0.025171</td>\n",
       "    </tr>\n",
       "  </tbody>\n",
       "</table>\n",
       "<p>5 rows × 64 columns</p>\n",
       "</div>"
      ],
      "text/plain": [
       "          target     cat_0     cat_1     cat_2     cat_3     cat_4     cat_5  \\\n",
       "target  1.000000  0.048824  0.238997  0.008274  0.048274  0.060052  0.031003   \n",
       "cat_0   0.048824  1.000000  0.358838  0.099305  0.071269  0.088407  0.427284   \n",
       "cat_1   0.238997  0.358838  1.000000  0.061860  0.082019  0.018568  0.205001   \n",
       "cat_2   0.008274  0.099305  0.061860  1.000000  0.433979  0.001293  0.039309   \n",
       "cat_3   0.048274  0.071269  0.082019  0.433979  1.000000  0.010727  0.039980   \n",
       "\n",
       "           cat_6     cat_7     cat_8  ...  num_10_anom  num_12_anom  \\\n",
       "target  0.021147  0.013447  0.034173  ...     0.029631     0.023509   \n",
       "cat_0   0.179368  0.166426  0.089875  ...     0.080200     0.045120   \n",
       "cat_1   0.111953  0.102165  0.088821  ...     0.011633     0.012809   \n",
       "cat_2   0.137063  0.151774  0.321977  ...     0.023673     0.203292   \n",
       "cat_3   0.301629  0.395338  0.381195  ...     0.030502     0.329917   \n",
       "\n",
       "        num_19_anom  num_22_anom  num_26_anom  num_29_anom  num_32_anom  \\\n",
       "target     0.029268     0.023686     0.086447     0.103567     0.042061   \n",
       "cat_0      0.081362     0.045829     0.096054     0.103786     0.124922   \n",
       "cat_1      0.011927     0.012657     0.046435     0.021449     0.032117   \n",
       "cat_2      0.020588     0.202966     0.032184     0.002159     0.007464   \n",
       "cat_3      0.031509     0.327605     0.000162     0.028898     0.018121   \n",
       "\n",
       "        num_35_anom  num_36_anom      year  \n",
       "target     0.057613     0.074328  0.083462  \n",
       "cat_0      0.112965     0.151434  0.022741  \n",
       "cat_1      0.020444     0.008580  0.068505  \n",
       "cat_2      0.002132     0.008215  0.131733  \n",
       "cat_3      0.015070     0.009042  0.025171  \n",
       "\n",
       "[5 rows x 64 columns]"
      ]
     },
     "execution_count": 266,
     "metadata": {},
     "output_type": "execute_result"
    }
   ],
   "source": [
    "threshold = 0.9\n",
    "\n",
    "corr_matrix = df.corr().abs()\n",
    "corr_matrix.head()"
   ]
  },
  {
   "cell_type": "code",
   "execution_count": 267,
   "metadata": {},
   "outputs": [
    {
     "data": {
      "text/html": [
       "<div>\n",
       "<style scoped>\n",
       "    .dataframe tbody tr th:only-of-type {\n",
       "        vertical-align: middle;\n",
       "    }\n",
       "\n",
       "    .dataframe tbody tr th {\n",
       "        vertical-align: top;\n",
       "    }\n",
       "\n",
       "    .dataframe thead th {\n",
       "        text-align: right;\n",
       "    }\n",
       "</style>\n",
       "<table border=\"1\" class=\"dataframe\">\n",
       "  <thead>\n",
       "    <tr style=\"text-align: right;\">\n",
       "      <th></th>\n",
       "      <th>target</th>\n",
       "      <th>cat_0</th>\n",
       "      <th>cat_1</th>\n",
       "      <th>cat_2</th>\n",
       "      <th>cat_3</th>\n",
       "      <th>cat_4</th>\n",
       "      <th>cat_5</th>\n",
       "      <th>cat_6</th>\n",
       "      <th>cat_7</th>\n",
       "      <th>cat_8</th>\n",
       "      <th>...</th>\n",
       "      <th>num_10_anom</th>\n",
       "      <th>num_12_anom</th>\n",
       "      <th>num_19_anom</th>\n",
       "      <th>num_22_anom</th>\n",
       "      <th>num_26_anom</th>\n",
       "      <th>num_29_anom</th>\n",
       "      <th>num_32_anom</th>\n",
       "      <th>num_35_anom</th>\n",
       "      <th>num_36_anom</th>\n",
       "      <th>year</th>\n",
       "    </tr>\n",
       "  </thead>\n",
       "  <tbody>\n",
       "    <tr>\n",
       "      <th>target</th>\n",
       "      <td>NaN</td>\n",
       "      <td>0.048824</td>\n",
       "      <td>0.238997</td>\n",
       "      <td>0.008274</td>\n",
       "      <td>0.048274</td>\n",
       "      <td>0.060052</td>\n",
       "      <td>0.031003</td>\n",
       "      <td>0.021147</td>\n",
       "      <td>0.013447</td>\n",
       "      <td>0.034173</td>\n",
       "      <td>...</td>\n",
       "      <td>0.029631</td>\n",
       "      <td>0.023509</td>\n",
       "      <td>0.029268</td>\n",
       "      <td>0.023686</td>\n",
       "      <td>0.086447</td>\n",
       "      <td>0.103567</td>\n",
       "      <td>0.042061</td>\n",
       "      <td>0.057613</td>\n",
       "      <td>0.074328</td>\n",
       "      <td>0.083462</td>\n",
       "    </tr>\n",
       "    <tr>\n",
       "      <th>cat_0</th>\n",
       "      <td>NaN</td>\n",
       "      <td>NaN</td>\n",
       "      <td>0.358838</td>\n",
       "      <td>0.099305</td>\n",
       "      <td>0.071269</td>\n",
       "      <td>0.088407</td>\n",
       "      <td>0.427284</td>\n",
       "      <td>0.179368</td>\n",
       "      <td>0.166426</td>\n",
       "      <td>0.089875</td>\n",
       "      <td>...</td>\n",
       "      <td>0.080200</td>\n",
       "      <td>0.045120</td>\n",
       "      <td>0.081362</td>\n",
       "      <td>0.045829</td>\n",
       "      <td>0.096054</td>\n",
       "      <td>0.103786</td>\n",
       "      <td>0.124922</td>\n",
       "      <td>0.112965</td>\n",
       "      <td>0.151434</td>\n",
       "      <td>0.022741</td>\n",
       "    </tr>\n",
       "    <tr>\n",
       "      <th>cat_1</th>\n",
       "      <td>NaN</td>\n",
       "      <td>NaN</td>\n",
       "      <td>NaN</td>\n",
       "      <td>0.061860</td>\n",
       "      <td>0.082019</td>\n",
       "      <td>0.018568</td>\n",
       "      <td>0.205001</td>\n",
       "      <td>0.111953</td>\n",
       "      <td>0.102165</td>\n",
       "      <td>0.088821</td>\n",
       "      <td>...</td>\n",
       "      <td>0.011633</td>\n",
       "      <td>0.012809</td>\n",
       "      <td>0.011927</td>\n",
       "      <td>0.012657</td>\n",
       "      <td>0.046435</td>\n",
       "      <td>0.021449</td>\n",
       "      <td>0.032117</td>\n",
       "      <td>0.020444</td>\n",
       "      <td>0.008580</td>\n",
       "      <td>0.068505</td>\n",
       "    </tr>\n",
       "    <tr>\n",
       "      <th>cat_2</th>\n",
       "      <td>NaN</td>\n",
       "      <td>NaN</td>\n",
       "      <td>NaN</td>\n",
       "      <td>NaN</td>\n",
       "      <td>0.433979</td>\n",
       "      <td>0.001293</td>\n",
       "      <td>0.039309</td>\n",
       "      <td>0.137063</td>\n",
       "      <td>0.151774</td>\n",
       "      <td>0.321977</td>\n",
       "      <td>...</td>\n",
       "      <td>0.023673</td>\n",
       "      <td>0.203292</td>\n",
       "      <td>0.020588</td>\n",
       "      <td>0.202966</td>\n",
       "      <td>0.032184</td>\n",
       "      <td>0.002159</td>\n",
       "      <td>0.007464</td>\n",
       "      <td>0.002132</td>\n",
       "      <td>0.008215</td>\n",
       "      <td>0.131733</td>\n",
       "    </tr>\n",
       "    <tr>\n",
       "      <th>cat_3</th>\n",
       "      <td>NaN</td>\n",
       "      <td>NaN</td>\n",
       "      <td>NaN</td>\n",
       "      <td>NaN</td>\n",
       "      <td>NaN</td>\n",
       "      <td>0.010727</td>\n",
       "      <td>0.039980</td>\n",
       "      <td>0.301629</td>\n",
       "      <td>0.395338</td>\n",
       "      <td>0.381195</td>\n",
       "      <td>...</td>\n",
       "      <td>0.030502</td>\n",
       "      <td>0.329917</td>\n",
       "      <td>0.031509</td>\n",
       "      <td>0.327605</td>\n",
       "      <td>0.000162</td>\n",
       "      <td>0.028898</td>\n",
       "      <td>0.018121</td>\n",
       "      <td>0.015070</td>\n",
       "      <td>0.009042</td>\n",
       "      <td>0.025171</td>\n",
       "    </tr>\n",
       "  </tbody>\n",
       "</table>\n",
       "<p>5 rows × 64 columns</p>\n",
       "</div>"
      ],
      "text/plain": [
       "        target     cat_0     cat_1     cat_2     cat_3     cat_4     cat_5  \\\n",
       "target     NaN  0.048824  0.238997  0.008274  0.048274  0.060052  0.031003   \n",
       "cat_0      NaN       NaN  0.358838  0.099305  0.071269  0.088407  0.427284   \n",
       "cat_1      NaN       NaN       NaN  0.061860  0.082019  0.018568  0.205001   \n",
       "cat_2      NaN       NaN       NaN       NaN  0.433979  0.001293  0.039309   \n",
       "cat_3      NaN       NaN       NaN       NaN       NaN  0.010727  0.039980   \n",
       "\n",
       "           cat_6     cat_7     cat_8  ...  num_10_anom  num_12_anom  \\\n",
       "target  0.021147  0.013447  0.034173  ...     0.029631     0.023509   \n",
       "cat_0   0.179368  0.166426  0.089875  ...     0.080200     0.045120   \n",
       "cat_1   0.111953  0.102165  0.088821  ...     0.011633     0.012809   \n",
       "cat_2   0.137063  0.151774  0.321977  ...     0.023673     0.203292   \n",
       "cat_3   0.301629  0.395338  0.381195  ...     0.030502     0.329917   \n",
       "\n",
       "        num_19_anom  num_22_anom  num_26_anom  num_29_anom  num_32_anom  \\\n",
       "target     0.029268     0.023686     0.086447     0.103567     0.042061   \n",
       "cat_0      0.081362     0.045829     0.096054     0.103786     0.124922   \n",
       "cat_1      0.011927     0.012657     0.046435     0.021449     0.032117   \n",
       "cat_2      0.020588     0.202966     0.032184     0.002159     0.007464   \n",
       "cat_3      0.031509     0.327605     0.000162     0.028898     0.018121   \n",
       "\n",
       "        num_35_anom  num_36_anom      year  \n",
       "target     0.057613     0.074328  0.083462  \n",
       "cat_0      0.112965     0.151434  0.022741  \n",
       "cat_1      0.020444     0.008580  0.068505  \n",
       "cat_2      0.002132     0.008215  0.131733  \n",
       "cat_3      0.015070     0.009042  0.025171  \n",
       "\n",
       "[5 rows x 64 columns]"
      ]
     },
     "execution_count": 267,
     "metadata": {},
     "output_type": "execute_result"
    }
   ],
   "source": [
    "upper = corr_matrix.where(np.triu(np.ones(corr_matrix.shape), k=1).astype(np.bool))\n",
    "upper.head()"
   ]
  },
  {
   "cell_type": "code",
   "execution_count": 268,
   "metadata": {},
   "outputs": [
    {
     "name": "stdout",
     "output_type": "stream",
     "text": [
      "There are 16 columns to remove.\n"
     ]
    }
   ],
   "source": [
    "to_drop = [column for column in upper.columns if any(upper[column] > threshold)]\n",
    "\n",
    "print('There are %d columns to remove.' % (len(to_drop)))"
   ]
  },
  {
   "cell_type": "code",
   "execution_count": 269,
   "metadata": {},
   "outputs": [
    {
     "data": {
      "text/plain": [
       "['cat_7',\n",
       " 'num_7',\n",
       " 'num_10',\n",
       " 'num_16',\n",
       " 'num_17',\n",
       " 'num_18',\n",
       " 'num_19',\n",
       " 'num_20',\n",
       " 'num_21',\n",
       " 'num_22',\n",
       " 'num_23',\n",
       " 'num_24',\n",
       " 'num_25',\n",
       " 'num_30',\n",
       " 'num_19_anom',\n",
       " 'num_22_anom']"
      ]
     },
     "execution_count": 269,
     "metadata": {},
     "output_type": "execute_result"
    }
   ],
   "source": [
    "to_drop"
   ]
  },
  {
   "cell_type": "code",
   "execution_count": 276,
   "metadata": {
    "scrolled": true
   },
   "outputs": [
    {
     "data": {
      "text/plain": [
       "['num_32',\n",
       " 'num_12_anom',\n",
       " 'cat_3',\n",
       " 'num_12',\n",
       " 'num_4_anom',\n",
       " 'num_29_anom',\n",
       " 'num_4',\n",
       " 'num_1_anom',\n",
       " 'num_29',\n",
       " 'cat_5',\n",
       " 'num_5',\n",
       " 'cat_1',\n",
       " 'num_14',\n",
       " 'num_1',\n",
       " 'num_27',\n",
       " 'num_9',\n",
       " 'num_31',\n",
       " 'num_0',\n",
       " 'num_34',\n",
       " 'num_3',\n",
       " 'num_11',\n",
       " 'num_32_anom',\n",
       " 'num_33',\n",
       " 'num_26_anom',\n",
       " 'num_35_anom',\n",
       " 'year',\n",
       " 'num_15',\n",
       " 'num_10_anom',\n",
       " 'cat_10',\n",
       " 'num_35',\n",
       " 'num_6',\n",
       " 'num_36',\n",
       " 'num_26',\n",
       " 'num_2',\n",
       " 'num_6_anom',\n",
       " 'cat_0',\n",
       " 'num_36_anom',\n",
       " 'num_3_anom',\n",
       " 'cat_8',\n",
       " 'num_13',\n",
       " 'cat_6',\n",
       " 'num_28',\n",
       " 'num_2_anom',\n",
       " 'cat_4',\n",
       " 'cat_9',\n",
       " 'cat_2',\n",
       " 'num_8']"
      ]
     },
     "execution_count": 276,
     "metadata": {},
     "output_type": "execute_result"
    }
   ],
   "source": [
    "list(set(X_train.columns) - set(to_drop))"
   ]
  },
  {
   "cell_type": "markdown",
   "metadata": {},
   "source": [
    "Список оставленных"
   ]
  },
  {
   "cell_type": "code",
   "execution_count": 348,
   "metadata": {},
   "outputs": [],
   "source": [
    "X_train_multicorr = X_train[list(set(X_train.columns) - set(to_drop))]\n",
    "X_test_multicorr = X_test[list(set(X_test.columns) - set(to_drop))]"
   ]
  },
  {
   "cell_type": "code",
   "execution_count": 345,
   "metadata": {},
   "outputs": [
    {
     "data": {
      "text/plain": [
       "(438409, 40)"
      ]
     },
     "execution_count": 345,
     "metadata": {},
     "output_type": "execute_result"
    }
   ],
   "source": [
    "X_train_multicorr.shape"
   ]
  },
  {
   "cell_type": "code",
   "execution_count": 349,
   "metadata": {
    "scrolled": true
   },
   "outputs": [
    {
     "data": {
      "text/plain": [
       "0.8479234156912284"
      ]
     },
     "execution_count": 349,
     "metadata": {},
     "output_type": "execute_result"
    }
   ],
   "source": [
    "cv_scores_multicorr = cross_val_score(clf, X_train_multicorr, y_train, cv=time_split, \n",
    "                        scoring='roc_auc', n_jobs=-1)\n",
    "\n",
    "cv_scores_multicorr.mean()"
   ]
  },
  {
   "cell_type": "markdown",
   "metadata": {},
   "source": [
    "Избавление от коррелирующих между собой фичей снизил скор."
   ]
  },
  {
   "cell_type": "markdown",
   "metadata": {},
   "source": [
    "### Корреляции"
   ]
  },
  {
   "cell_type": "code",
   "execution_count": 254,
   "metadata": {},
   "outputs": [
    {
     "data": {
      "text/plain": [
       "target         1.000000\n",
       "num_6          0.205783\n",
       "num_29         0.193265\n",
       "num_2          0.182122\n",
       "num_26         0.173877\n",
       "num_4          0.157072\n",
       "num_35         0.135820\n",
       "num_29_anom    0.103567\n",
       "num_6_anom     0.094728\n",
       "num_2_anom     0.092627\n",
       "num_26_anom    0.086447\n",
       "year           0.083462\n",
       "num_36_anom    0.074328\n",
       "num_34         0.065255\n",
       "cat_4          0.060052\n",
       "num_4_anom     0.058846\n",
       "num_32         0.058360\n",
       "num_35_anom    0.057613\n",
       "num_36         0.053970\n",
       "cat_0          0.048824\n",
       "cat_3          0.048274\n",
       "num_3          0.045817\n",
       "num_32_anom    0.042061\n",
       "num_3_anom     0.039822\n",
       "cat_9          0.036924\n",
       "cat_8          0.034173\n",
       "num_10_anom    0.029631\n",
       "num_19_anom    0.029268\n",
       "num_1_anom     0.028615\n",
       "num_1          0.025835\n",
       "                 ...   \n",
       "num_27         0.011183\n",
       "cat_10         0.010099\n",
       "cat_2          0.008274\n",
       "num_5          0.006146\n",
       "num_31         0.004853\n",
       "num_0          0.002215\n",
       "num_8         -0.000086\n",
       "num_17        -0.000862\n",
       "num_13        -0.001500\n",
       "num_23        -0.002042\n",
       "num_12        -0.007437\n",
       "num_22        -0.007740\n",
       "num_18        -0.008316\n",
       "num_9         -0.009177\n",
       "num_28        -0.013777\n",
       "num_20        -0.013921\n",
       "num_16        -0.016142\n",
       "num_7         -0.016560\n",
       "num_25        -0.018899\n",
       "num_30        -0.019179\n",
       "num_15        -0.019858\n",
       "num_10        -0.024294\n",
       "num_19        -0.024520\n",
       "num_11        -0.024648\n",
       "num_21        -0.025037\n",
       "num_14        -0.027980\n",
       "num_24        -0.028774\n",
       "cat_5         -0.031003\n",
       "num_33        -0.033992\n",
       "cat_1         -0.238997\n",
       "Name: target, Length: 64, dtype: float64"
      ]
     },
     "execution_count": 254,
     "metadata": {},
     "output_type": "execute_result"
    }
   ],
   "source": [
    "df.corr()['target'].sort_values(ascending=False)"
   ]
  },
  {
   "cell_type": "code",
   "execution_count": 279,
   "metadata": {},
   "outputs": [
    {
     "data": {
      "image/png": "[encoded data removed]",
      "text/plain": [
       "<Figure size 576x432 with 2 Axes>"
      ]
     },
     "metadata": {
      "needs_background": "light"
     },
     "output_type": "display_data"
    }
   ],
   "source": [
    "corr_data = df[['target', 'num_6', 'num_2', 'num_35']]\n",
    "corr_data_corrs = corr_data.corr()\n",
    "\n",
    "plt.figure(figsize = (8, 6))\n",
    "\n",
    "sns.heatmap(corr_data_corrs, cmap = plt.cm.RdYlBu_r, annot = True)\n",
    "plt.title('Correlation Heatmap');"
   ]
  },
  {
   "cell_type": "markdown",
   "metadata": {},
   "source": [
    "Наибольшую корреляцию показывают num_6, num_29, num_2, num_26, num_35 и cat_1. Cat_1 мы уже отмечали - там есть аномально высокие отмены среди второго класса. Все числовые переменные – из нашего списка аномальных выбросов, который анализировался выше. Не попали в него – num_4 и num_36. Также в верхнюю часть списка попали аномальные маркеры."
   ]
  },
  {
   "cell_type": "code",
   "execution_count": 260,
   "metadata": {},
   "outputs": [],
   "source": [
    "X_train_corr = X_train[['num_6', 'num_29', 'num_2', 'num_26', 'num_35', 'cat_1']]"
   ]
  },
  {
   "cell_type": "code",
   "execution_count": 350,
   "metadata": {},
   "outputs": [
    {
     "data": {
      "text/plain": [
       "0.7001795725019588"
      ]
     },
     "execution_count": 350,
     "metadata": {},
     "output_type": "execute_result"
    }
   ],
   "source": [
    "cv_scores_corr = cross_val_score(clf, X_train_corr, y_train, cv=time_split, \n",
    "                        scoring='roc_auc', n_jobs=-1)\n",
    "\n",
    "cv_scores_corr.mean()"
   ]
  },
  {
   "cell_type": "markdown",
   "metadata": {},
   "source": [
    "Если обучаться только на самых коррелирующих переменных, то скор падает еще сильнее. Возможно надо снизить порог."
   ]
  },
  {
   "cell_type": "markdown",
   "metadata": {},
   "source": [
    "Можно посмотреть на фичи, которые отобрал RandomForest."
   ]
  },
  {
   "cell_type": "code",
   "execution_count": 351,
   "metadata": {},
   "outputs": [
    {
     "data": {
      "text/plain": [
       "RandomForestClassifier(bootstrap=True, class_weight=None, criterion='gini',\n",
       "            max_depth=3, max_features='auto', max_leaf_nodes=None,\n",
       "            min_impurity_decrease=0.0, min_impurity_split=None,\n",
       "            min_samples_leaf=1, min_samples_split=2,\n",
       "            min_weight_fraction_leaf=0.0, n_estimators=100, n_jobs=-1,\n",
       "            oob_score=False, random_state=42, verbose=0, warm_start=False)"
      ]
     },
     "execution_count": 351,
     "metadata": {},
     "output_type": "execute_result"
    }
   ],
   "source": [
    "clf.fit(X_train, y_train)"
   ]
  },
  {
   "cell_type": "code",
   "execution_count": 355,
   "metadata": {
    "scrolled": true
   },
   "outputs": [],
   "source": [
    "rf_features = []\n",
    "for feature in zip(X_train.columns, clf.feature_importances_):\n",
    "    rf_features.append(feature)"
   ]
  },
  {
   "cell_type": "code",
   "execution_count": 364,
   "metadata": {},
   "outputs": [
    {
     "data": {
      "text/plain": [
       "[('cat_0', 0.0026182035975935458),\n",
       " ('cat_1', 0.09507451424507635),\n",
       " ('cat_2', 0.00010183831293416856),\n",
       " ('cat_3', 0.00015887267935955378),\n",
       " ('cat_4', 0.0011067415727131324),\n",
       " ('cat_5', 0.0006024691331983963),\n",
       " ('cat_6', 9.740605367149062e-06),\n",
       " ('cat_7', 3.994832693648017e-05),\n",
       " ('cat_8', 8.727348922963515e-05),\n",
       " ('cat_9', 0.0014040911069791093),\n",
       " ('cat_10', 0.0007369947458198197),\n",
       " ('num_0', 0.006070939885145324),\n",
       " ('num_1', 0.0),\n",
       " ('num_2', 0.06437116451953549),\n",
       " ('num_3', 0.0),\n",
       " ('num_4', 0.010949791643767071),\n",
       " ('num_5', 0.0023129590030554655),\n",
       " ('num_6', 0.016142435994641748),\n",
       " ('num_7', 3.9040841520108546e-05),\n",
       " ('num_8', 0.00010842419875453361),\n",
       " ('num_9', 0.0),\n",
       " ('num_10', 0.00036092338370806226),\n",
       " ('num_11', 0.00039170016423624736),\n",
       " ('num_12', 1.1941707906641328e-05),\n",
       " ('num_13', 0.0),\n",
       " ('num_14', 0.0),\n",
       " ('num_15', 7.05449915368371e-05),\n",
       " ('num_16', 9.22777623567046e-05),\n",
       " ('num_17', 0.0),\n",
       " ('num_18', 0.0),\n",
       " ('num_19', 5.106779884399382e-05),\n",
       " ('num_20', 0.0),\n",
       " ('num_21', 3.680406350781552e-05),\n",
       " ('num_22', 0.00034727503388504925),\n",
       " ('num_23', 0.0),\n",
       " ('num_24', 0.0),\n",
       " ('num_25', 0.0),\n",
       " ('num_26', 0.05164438177216212),\n",
       " ('num_27', 0.21254930627727348),\n",
       " ('num_28', 0.005568428468830293),\n",
       " ('num_29', 0.020925118837252184),\n",
       " ('num_30', 0.4162192699851234),\n",
       " ('num_31', 0.003919682308607022),\n",
       " ('num_32', 0.002616111143722954),\n",
       " ('num_33', 0.0022986435363423776),\n",
       " ('num_34', 0.0034338407915350277),\n",
       " ('num_35', 0.010075204791185259),\n",
       " ('num_36', 0.021036159380475202),\n",
       " ('num_1_anom', 0.0),\n",
       " ('num_2_anom', 0.0034193954229173535),\n",
       " ('num_3_anom', 0.0),\n",
       " ('num_4_anom', 1.8158671689103196e-06),\n",
       " ('num_6_anom', 0.005907034467763311),\n",
       " ('num_10_anom', 0.0),\n",
       " ('num_12_anom', 1.562023182432123e-05),\n",
       " ('num_19_anom', 0.0),\n",
       " ('num_22_anom', 0.00044387643121067183),\n",
       " ('num_26_anom', 0.005934940677951379),\n",
       " ('num_29_anom', 0.014153126630039673),\n",
       " ('num_32_anom', 0.011493749729856511),\n",
       " ('num_35_anom', 0.004100550589682475),\n",
       " ('num_36_anom', 0.00017172966586827886),\n",
       " ('year', 0.0007740341855995916)]"
      ]
     },
     "execution_count": 364,
     "metadata": {},
     "output_type": "execute_result"
    }
   ],
   "source": [
    "rf_features"
   ]
  },
  {
   "cell_type": "code",
   "execution_count": 365,
   "metadata": {},
   "outputs": [],
   "source": [
    "from sklearn.feature_selection import SelectFromModel"
   ]
  },
  {
   "cell_type": "code",
   "execution_count": 368,
   "metadata": {},
   "outputs": [
    {
     "data": {
      "text/plain": [
       "SelectFromModel(estimator=RandomForestClassifier(bootstrap=True, class_weight=None, criterion='gini',\n",
       "            max_depth=3, max_features='auto', max_leaf_nodes=None,\n",
       "            min_impurity_decrease=0.0, min_impurity_split=None,\n",
       "            min_samples_leaf=1, min_samples_split=2,\n",
       "            min_weight_fraction_leaf=0.0, n_estimators=100, n_jobs=-1,\n",
       "            oob_score=False, random_state=42, verbose=0, warm_start=False),\n",
       "        max_features=None, norm_order=1, prefit=False, threshold=0.15)"
      ]
     },
     "execution_count": 368,
     "metadata": {},
     "output_type": "execute_result"
    }
   ],
   "source": [
    "sfm = SelectFromModel(clf, threshold=0.15)\n",
    "sfm.fit(X_train, y_train)"
   ]
  },
  {
   "cell_type": "code",
   "execution_count": 369,
   "metadata": {},
   "outputs": [
    {
     "name": "stdout",
     "output_type": "stream",
     "text": [
      "num_27\n",
      "num_30\n"
     ]
    }
   ],
   "source": [
    "for feature_list_index in sfm.get_support(indices=True):\n",
    "    print(X_train.columns[feature_list_index])"
   ]
  },
  {
   "cell_type": "code",
   "execution_count": 372,
   "metadata": {},
   "outputs": [],
   "source": [
    "X_train_rf = X_train[['num_27', 'num_30']]\n",
    "X_test_rf = X_test[['num_27', 'num_30']]"
   ]
  },
  {
   "cell_type": "code",
   "execution_count": 371,
   "metadata": {},
   "outputs": [
    {
     "data": {
      "text/plain": [
       "0.968890009409319"
      ]
     },
     "execution_count": 371,
     "metadata": {},
     "output_type": "execute_result"
    }
   ],
   "source": [
    "cv_scores_rf = cross_val_score(clf, X_train_rf, y_train, cv=time_split, \n",
    "                        scoring='roc_auc', n_jobs=-1)\n",
    "\n",
    "cv_scores_rf.mean()"
   ]
  },
  {
   "cell_type": "markdown",
   "metadata": {},
   "source": [
    "Скор немного понизился (бейслайн – 0.9725952010318716), но мы избавились почти от всех фичей, кроме двух."
   ]
  },
  {
   "cell_type": "markdown",
   "metadata": {},
   "source": [
    "# 4. Проверка на тестовой выборке"
   ]
  },
  {
   "cell_type": "code",
   "execution_count": 373,
   "metadata": {},
   "outputs": [
    {
     "data": {
      "text/plain": [
       "0.8270552286102308"
      ]
     },
     "execution_count": 373,
     "metadata": {},
     "output_type": "execute_result"
    }
   ],
   "source": [
    "clf.fit(X_train_rf, y_train)\n",
    "predictions = clf.predict(X_test_rf)\n",
    "roc_auc_score(y_test, predictions)"
   ]
  },
  {
   "cell_type": "code",
   "execution_count": 376,
   "metadata": {
    "scrolled": true
   },
   "outputs": [
    {
     "data": {
      "image/png": "[encoded data removed]",
      "text/plain": [
       "<Figure size 432x288 with 1 Axes>"
      ]
     },
     "metadata": {},
     "output_type": "display_data"
    }
   ],
   "source": [
    "from sklearn.model_selection import learning_curve\n",
    "\n",
    "def plot_learning_curve(estimator, title, X, y, ylim=None, cv=None,\n",
    "                        n_jobs=None, train_sizes=np.linspace(.1, 1.0, 5)):\n",
    "    plt.figure()\n",
    "    plt.title(title)\n",
    "    if ylim is not None:\n",
    "        plt.ylim(*ylim)\n",
    "    plt.xlabel(\"Training examples\")\n",
    "    plt.ylabel(\"Score\")\n",
    "    train_sizes, train_scores, test_scores = learning_curve(\n",
    "        estimator, X, y, cv=cv, n_jobs=n_jobs, train_sizes=train_sizes)\n",
    "    train_scores_mean = np.mean(train_scores, axis=1)\n",
    "    train_scores_std = np.std(train_scores, axis=1)\n",
    "    test_scores_mean = np.mean(test_scores, axis=1)\n",
    "    test_scores_std = np.std(test_scores, axis=1)\n",
    "    plt.grid()\n",
    "\n",
    "    plt.fill_between(train_sizes, train_scores_mean - train_scores_std,\n",
    "                     train_scores_mean + train_scores_std, alpha=0.1,\n",
    "                     color=\"r\")\n",
    "    plt.fill_between(train_sizes, test_scores_mean - test_scores_std,\n",
    "                     test_scores_mean + test_scores_std, alpha=0.1, color=\"g\")\n",
    "    plt.plot(train_sizes, train_scores_mean, 'o-', color=\"r\",\n",
    "             label=\"Training score\")\n",
    "    plt.plot(train_sizes, test_scores_mean, 'o-', color=\"g\",\n",
    "             label=\"Cross-validation score\")\n",
    "\n",
    "    plt.legend(loc=\"best\")\n",
    "    return plt\n",
    "\n",
    "\n",
    "title = \"Кривая обучения (Random Forest)\"\n",
    "plot_learning_curve(clf, title, X_train, y_train, ylim=(0.7, 1.01), cv=time_split, n_jobs=-1)\n",
    "\n",
    "plt.show()"
   ]
  },
  {
   "cell_type": "code",
   "execution_count": 381,
   "metadata": {},
   "outputs": [],
   "source": [
    "xgb_clf = xgb.XGBClassifier(max_depth=3, n_estimators=100, learning_rate=0.01)"
   ]
  },
  {
   "cell_type": "code",
   "execution_count": 382,
   "metadata": {},
   "outputs": [
    {
     "data": {
      "text/plain": [
       "0.8270552286102308"
      ]
     },
     "execution_count": 382,
     "metadata": {},
     "output_type": "execute_result"
    }
   ],
   "source": [
    "xgb_clf.fit(X_train_rf, y_train)\n",
    "predictions_xgb = xgb_clf.predict(X_test_rf)\n",
    "roc_auc_score(y_test, predictions_xgb)"
   ]
  },
  {
   "cell_type": "markdown",
   "metadata": {},
   "source": [
    "Дальше можно попытаться регуляризировать алгоритмы, если имеем дело с переобучением, использовать polynomial features (если нет переобучения), исследовать временные фичи, добавить \"утро до обеда\", \"день после обеда\", \"лето\", \"осень\", глубже изучить категориальные фичи и понять почему random forest их игнорирует, использовать domain knowledge, etc."
   ]
  }
 ],
 "metadata": {
  "kernelspec": {
   "display_name": "Python 3",
   "language": "python",
   "name": "python3"
  },
  "language_info": {
   "codemirror_mode": {
    "name": "ipython",
    "version": 3
   },
   "file_extension": ".py",
   "mimetype": "text/x-python",
   "name": "python",
   "nbconvert_exporter": "python",
   "pygments_lexer": "ipython3",
   "version": "3.7.3"
  }
 },
 "nbformat": 4,
 "nbformat_minor": 2
}
